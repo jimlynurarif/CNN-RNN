{
  "cells": [
    {
      "cell_type": "code",
      "execution_count": 75,
      "metadata": {
        "id": "cIk3mFp5JJcb"
      },
      "outputs": [],
      "source": [
        "import numpy as np\n",
        "import tensorflow as tf\n",
        "from tensorflow.keras.models import Sequential\n",
        "from tensorflow.keras.layers import Conv2D, ReLU, AveragePooling2D, MaxPooling2D, Flatten, Dense, Input\n",
        "from tensorflow.keras.datasets import cifar10\n",
        "from sklearn.metrics import f1_score"
      ]
    },
    {
      "cell_type": "code",
      "execution_count": 62,
      "metadata": {
        "id": "sRjOtFxnJucA"
      },
      "outputs": [],
      "source": [
        "(x_train, y_train), (x_test, y_test) = cifar10.load_data()"
      ]
    },
    {
      "cell_type": "code",
      "execution_count": 4,
      "metadata": {
        "colab": {
          "base_uri": "https://localhost:8080/"
        },
        "id": "KQQIZa5jJ0IO",
        "outputId": "852b129f-c27d-4454-fea8-977f2947e3d8",
        "collapsed": true
      },
      "outputs": [
        {
          "output_type": "execute_result",
          "data": {
            "text/plain": [
              "(array([[[[ 59,  62,  63],\n",
              "          [ 43,  46,  45],\n",
              "          [ 50,  48,  43],\n",
              "          ...,\n",
              "          [158, 132, 108],\n",
              "          [152, 125, 102],\n",
              "          [148, 124, 103]],\n",
              " \n",
              "         [[ 16,  20,  20],\n",
              "          [  0,   0,   0],\n",
              "          [ 18,   8,   0],\n",
              "          ...,\n",
              "          [123,  88,  55],\n",
              "          [119,  83,  50],\n",
              "          [122,  87,  57]],\n",
              " \n",
              "         [[ 25,  24,  21],\n",
              "          [ 16,   7,   0],\n",
              "          [ 49,  27,   8],\n",
              "          ...,\n",
              "          [118,  84,  50],\n",
              "          [120,  84,  50],\n",
              "          [109,  73,  42]],\n",
              " \n",
              "         ...,\n",
              " \n",
              "         [[208, 170,  96],\n",
              "          [201, 153,  34],\n",
              "          [198, 161,  26],\n",
              "          ...,\n",
              "          [160, 133,  70],\n",
              "          [ 56,  31,   7],\n",
              "          [ 53,  34,  20]],\n",
              " \n",
              "         [[180, 139,  96],\n",
              "          [173, 123,  42],\n",
              "          [186, 144,  30],\n",
              "          ...,\n",
              "          [184, 148,  94],\n",
              "          [ 97,  62,  34],\n",
              "          [ 83,  53,  34]],\n",
              " \n",
              "         [[177, 144, 116],\n",
              "          [168, 129,  94],\n",
              "          [179, 142,  87],\n",
              "          ...,\n",
              "          [216, 184, 140],\n",
              "          [151, 118,  84],\n",
              "          [123,  92,  72]]],\n",
              " \n",
              " \n",
              "        [[[154, 177, 187],\n",
              "          [126, 137, 136],\n",
              "          [105, 104,  95],\n",
              "          ...,\n",
              "          [ 91,  95,  71],\n",
              "          [ 87,  90,  71],\n",
              "          [ 79,  81,  70]],\n",
              " \n",
              "         [[140, 160, 169],\n",
              "          [145, 153, 154],\n",
              "          [125, 125, 118],\n",
              "          ...,\n",
              "          [ 96,  99,  78],\n",
              "          [ 77,  80,  62],\n",
              "          [ 71,  73,  61]],\n",
              " \n",
              "         [[140, 155, 164],\n",
              "          [139, 146, 149],\n",
              "          [115, 115, 112],\n",
              "          ...,\n",
              "          [ 79,  82,  64],\n",
              "          [ 68,  70,  55],\n",
              "          [ 67,  69,  55]],\n",
              " \n",
              "         ...,\n",
              " \n",
              "         [[175, 167, 166],\n",
              "          [156, 154, 160],\n",
              "          [154, 160, 170],\n",
              "          ...,\n",
              "          [ 42,  34,  36],\n",
              "          [ 61,  53,  57],\n",
              "          [ 93,  83,  91]],\n",
              " \n",
              "         [[165, 154, 128],\n",
              "          [156, 152, 130],\n",
              "          [159, 161, 142],\n",
              "          ...,\n",
              "          [103,  93,  96],\n",
              "          [123, 114, 120],\n",
              "          [131, 121, 131]],\n",
              " \n",
              "         [[163, 148, 120],\n",
              "          [158, 148, 122],\n",
              "          [163, 156, 133],\n",
              "          ...,\n",
              "          [143, 133, 139],\n",
              "          [143, 134, 142],\n",
              "          [143, 133, 144]]],\n",
              " \n",
              " \n",
              "        [[[255, 255, 255],\n",
              "          [253, 253, 253],\n",
              "          [253, 253, 253],\n",
              "          ...,\n",
              "          [253, 253, 253],\n",
              "          [253, 253, 253],\n",
              "          [253, 253, 253]],\n",
              " \n",
              "         [[255, 255, 255],\n",
              "          [255, 255, 255],\n",
              "          [255, 255, 255],\n",
              "          ...,\n",
              "          [255, 255, 255],\n",
              "          [255, 255, 255],\n",
              "          [255, 255, 255]],\n",
              " \n",
              "         [[255, 255, 255],\n",
              "          [254, 254, 254],\n",
              "          [254, 254, 254],\n",
              "          ...,\n",
              "          [254, 254, 254],\n",
              "          [254, 254, 254],\n",
              "          [254, 254, 254]],\n",
              " \n",
              "         ...,\n",
              " \n",
              "         [[113, 120, 112],\n",
              "          [111, 118, 111],\n",
              "          [105, 112, 106],\n",
              "          ...,\n",
              "          [ 72,  81,  80],\n",
              "          [ 72,  80,  79],\n",
              "          [ 72,  80,  79]],\n",
              " \n",
              "         [[111, 118, 110],\n",
              "          [104, 111, 104],\n",
              "          [ 99, 106,  98],\n",
              "          ...,\n",
              "          [ 68,  75,  73],\n",
              "          [ 70,  76,  75],\n",
              "          [ 78,  84,  82]],\n",
              " \n",
              "         [[106, 113, 105],\n",
              "          [ 99, 106,  98],\n",
              "          [ 95, 102,  94],\n",
              "          ...,\n",
              "          [ 78,  85,  83],\n",
              "          [ 79,  85,  83],\n",
              "          [ 80,  86,  84]]],\n",
              " \n",
              " \n",
              "        ...,\n",
              " \n",
              " \n",
              "        [[[ 35, 178, 235],\n",
              "          [ 40, 176, 239],\n",
              "          [ 42, 176, 241],\n",
              "          ...,\n",
              "          [ 99, 177, 219],\n",
              "          [ 79, 147, 197],\n",
              "          [ 89, 148, 189]],\n",
              " \n",
              "         [[ 57, 182, 234],\n",
              "          [ 44, 184, 250],\n",
              "          [ 50, 183, 240],\n",
              "          ...,\n",
              "          [156, 182, 200],\n",
              "          [141, 177, 206],\n",
              "          [116, 149, 175]],\n",
              " \n",
              "         [[ 98, 197, 237],\n",
              "          [ 64, 189, 252],\n",
              "          [ 69, 192, 245],\n",
              "          ...,\n",
              "          [188, 195, 206],\n",
              "          [119, 135, 147],\n",
              "          [ 61,  79,  90]],\n",
              " \n",
              "         ...,\n",
              " \n",
              "         [[ 73,  79,  77],\n",
              "          [ 53,  63,  68],\n",
              "          [ 54,  68,  80],\n",
              "          ...,\n",
              "          [ 17,  40,  64],\n",
              "          [ 21,  36,  51],\n",
              "          [ 33,  48,  49]],\n",
              " \n",
              "         [[ 61,  68,  75],\n",
              "          [ 55,  70,  86],\n",
              "          [ 57,  79, 103],\n",
              "          ...,\n",
              "          [ 24,  48,  72],\n",
              "          [ 17,  35,  53],\n",
              "          [  7,  23,  32]],\n",
              " \n",
              "         [[ 44,  56,  73],\n",
              "          [ 46,  66,  88],\n",
              "          [ 49,  77, 105],\n",
              "          ...,\n",
              "          [ 27,  52,  77],\n",
              "          [ 21,  43,  66],\n",
              "          [ 12,  31,  50]]],\n",
              " \n",
              " \n",
              "        [[[189, 211, 240],\n",
              "          [186, 208, 236],\n",
              "          [185, 207, 235],\n",
              "          ...,\n",
              "          [175, 195, 224],\n",
              "          [172, 194, 222],\n",
              "          [169, 194, 220]],\n",
              " \n",
              "         [[194, 210, 239],\n",
              "          [191, 207, 236],\n",
              "          [190, 206, 235],\n",
              "          ...,\n",
              "          [173, 192, 220],\n",
              "          [171, 191, 218],\n",
              "          [167, 190, 216]],\n",
              " \n",
              "         [[208, 219, 244],\n",
              "          [205, 216, 240],\n",
              "          [204, 215, 239],\n",
              "          ...,\n",
              "          [175, 191, 217],\n",
              "          [172, 190, 216],\n",
              "          [169, 191, 215]],\n",
              " \n",
              "         ...,\n",
              " \n",
              "         [[207, 199, 181],\n",
              "          [203, 195, 175],\n",
              "          [203, 196, 173],\n",
              "          ...,\n",
              "          [135, 132, 127],\n",
              "          [162, 158, 150],\n",
              "          [168, 163, 151]],\n",
              " \n",
              "         [[198, 190, 170],\n",
              "          [189, 181, 159],\n",
              "          [180, 172, 147],\n",
              "          ...,\n",
              "          [178, 171, 160],\n",
              "          [175, 169, 156],\n",
              "          [175, 169, 154]],\n",
              " \n",
              "         [[198, 189, 173],\n",
              "          [189, 181, 162],\n",
              "          [178, 170, 149],\n",
              "          ...,\n",
              "          [195, 184, 169],\n",
              "          [196, 189, 171],\n",
              "          [195, 190, 171]]],\n",
              " \n",
              " \n",
              "        [[[229, 229, 239],\n",
              "          [236, 237, 247],\n",
              "          [234, 236, 247],\n",
              "          ...,\n",
              "          [217, 219, 233],\n",
              "          [221, 223, 234],\n",
              "          [222, 223, 233]],\n",
              " \n",
              "         [[222, 221, 229],\n",
              "          [239, 239, 249],\n",
              "          [233, 234, 246],\n",
              "          ...,\n",
              "          [223, 223, 236],\n",
              "          [227, 228, 238],\n",
              "          [210, 211, 220]],\n",
              " \n",
              "         [[213, 206, 211],\n",
              "          [234, 232, 239],\n",
              "          [231, 233, 244],\n",
              "          ...,\n",
              "          [220, 220, 232],\n",
              "          [220, 219, 232],\n",
              "          [202, 203, 215]],\n",
              " \n",
              "         ...,\n",
              " \n",
              "         [[150, 143, 135],\n",
              "          [140, 135, 127],\n",
              "          [132, 127, 120],\n",
              "          ...,\n",
              "          [224, 222, 218],\n",
              "          [230, 228, 225],\n",
              "          [241, 241, 238]],\n",
              " \n",
              "         [[137, 132, 126],\n",
              "          [130, 127, 120],\n",
              "          [125, 121, 115],\n",
              "          ...,\n",
              "          [181, 180, 178],\n",
              "          [202, 201, 198],\n",
              "          [212, 211, 207]],\n",
              " \n",
              "         [[122, 119, 114],\n",
              "          [118, 116, 110],\n",
              "          [120, 116, 111],\n",
              "          ...,\n",
              "          [179, 177, 173],\n",
              "          [164, 164, 162],\n",
              "          [163, 163, 161]]]], dtype=uint8),\n",
              " array([[6],\n",
              "        [9],\n",
              "        [9],\n",
              "        ...,\n",
              "        [9],\n",
              "        [1],\n",
              "        [1]], dtype=uint8))"
            ]
          },
          "metadata": {},
          "execution_count": 4
        }
      ],
      "source": [
        "x_train, y_train"
      ]
    },
    {
      "cell_type": "code",
      "execution_count": 5,
      "metadata": {
        "colab": {
          "base_uri": "https://localhost:8080/"
        },
        "id": "EBjW2ENTs8b-",
        "outputId": "0ed2c207-fd62-4236-ba53-7ed804cb5bde"
      },
      "outputs": [
        {
          "output_type": "execute_result",
          "data": {
            "text/plain": [
              "((50000, 32, 32, 3), (10000, 32, 32, 3))"
            ]
          },
          "metadata": {},
          "execution_count": 5
        }
      ],
      "source": [
        "x_train.shape, x_test.shape"
      ]
    },
    {
      "cell_type": "code",
      "execution_count": 63,
      "metadata": {
        "id": "gJvxgZDetEju"
      },
      "outputs": [],
      "source": [
        "x_train = x_train.astype(np.float32) / 255.0\n",
        "x_test = x_test.astype(np.float32) / 255.0"
      ]
    },
    {
      "cell_type": "code",
      "source": [
        "import numpy as np\n",
        "\n",
        "class MySequential:\n",
        "    def __init__(self):\n",
        "        self.layers = []\n",
        "\n",
        "    def add(self, layer):\n",
        "        self.layers.append(layer)\n",
        "\n",
        "    def forward(self, x):\n",
        "        for layer in self.layers:\n",
        "            x = layer.forward(x)\n",
        "        return x\n",
        "\n",
        "class Conv2DScratch:\n",
        "    def __init__(self, weight, bias, stride=1, padding=0):\n",
        "        self.weight = weight\n",
        "        self.bias = bias\n",
        "        self.stride = stride\n",
        "        self.padding = padding\n",
        "\n",
        "    def pad_input(self, x):\n",
        "        if self.padding == 0:\n",
        "            return x\n",
        "        return np.pad(x, ((0, 0), (self.padding, self.padding), (self.padding, self.padding)), mode='constant')\n",
        "\n",
        "    def forward(self, x):\n",
        "        C_out, C_in, kH, kW = self.weight.shape\n",
        "        x_padded = self.pad_input(x)\n",
        "        _, H_in, W_in = x.shape\n",
        "        H_out = (H_in + 2*self.padding - kH) // self.stride + 1\n",
        "        W_out = (W_in + 2*self.padding - kW) // self.stride + 1\n",
        "\n",
        "        out = np.zeros((C_out, H_out, W_out))\n",
        "\n",
        "        for oc in range(C_out):\n",
        "            for i in range(H_out):\n",
        "                for j in range(W_out):\n",
        "                    for ic in range(C_in):\n",
        "                        h_start = i * self.stride\n",
        "                        w_start = j * self.stride\n",
        "                        patch = x_padded[ic, h_start:h_start+kH, w_start:w_start+kW]\n",
        "                        out[oc, i, j] += np.sum(patch * self.weight[oc, ic])\n",
        "                    out[oc, i, j] += self.bias[oc]\n",
        "        return out\n",
        "\n",
        "class ReLUScratch:\n",
        "    def forward(self, x):\n",
        "        return np.maximum(0, x)\n",
        "\n",
        "class MaxPool2DScratch:\n",
        "    def forward(self, x):\n",
        "        # x: (C, H, W)\n",
        "        C, H, W = x.shape\n",
        "        out = np.zeros((C, H // 2, W // 2))\n",
        "        for c in range(C):\n",
        "            for i in range(0, H, 2):\n",
        "                for j in range(0, W, 2):\n",
        "                    out[c, i//2, j//2] = np.max(x[c, i:i+2, j:j+2])\n",
        "        return out\n",
        "\n",
        "class AveragePool2DScratch:\n",
        "    def forward(self, x):\n",
        "        # x: (C, H, W)\n",
        "        C, H, W = x.shape\n",
        "        out = np.zeros((C, H // 2, W // 2))\n",
        "        for c in range(C):\n",
        "            for i in range(0, H, 2):\n",
        "                for j in range(0, W, 2):\n",
        "                    out[c, i//2, j//2] = np.mean(x[c, i:i+2, j:j+2])\n",
        "        return out\n",
        "\n",
        "class FlattenScratch:\n",
        "    def forward(self, x):\n",
        "        return x.flatten()\n",
        "\n",
        "class DenseScratch:\n",
        "    def __init__(self, weight, bias):\n",
        "        self.weight = weight\n",
        "        self.bias = bias\n",
        "\n",
        "    def forward(self, x):\n",
        "        return np.dot(self.weight, x) + self.bias"
      ],
      "metadata": {
        "id": "baJN31pWp62i"
      },
      "execution_count": 60,
      "outputs": []
    },
    {
      "cell_type": "markdown",
      "source": [
        "## Filters = 3, padding = 1, kernel-size = 3x3, n_conv_layer = 2, MaxPooling"
      ],
      "metadata": {
        "id": "6lnfou5OIzDn"
      }
    },
    {
      "cell_type": "markdown",
      "source": [
        "### Library Inititiation"
      ],
      "metadata": {
        "id": "4Oqwlg0dJO5B"
      }
    },
    {
      "cell_type": "code",
      "execution_count": 174,
      "metadata": {
        "colab": {
          "base_uri": "https://localhost:8080/",
          "height": 350
        },
        "id": "nSCYKeyhucw0",
        "outputId": "93cf0030-d158-4c98-ea96-e1f960453af2"
      },
      "outputs": [
        {
          "output_type": "display_data",
          "data": {
            "text/plain": [
              "\u001b[1mModel: \"sequential_10\"\u001b[0m\n"
            ],
            "text/html": [
              "<pre style=\"white-space:pre;overflow-x:auto;line-height:normal;font-family:Menlo,'DejaVu Sans Mono',consolas,'Courier New',monospace\"><span style=\"font-weight: bold\">Model: \"sequential_10\"</span>\n",
              "</pre>\n"
            ]
          },
          "metadata": {}
        },
        {
          "output_type": "display_data",
          "data": {
            "text/plain": [
              "┏━━━━━━━━━━━━━━━━━━━━━━━━━━━━━━━━━┳━━━━━━━━━━━━━━━━━━━━━━━━┳━━━━━━━━━━━━━━━┓\n",
              "┃\u001b[1m \u001b[0m\u001b[1mLayer (type)                   \u001b[0m\u001b[1m \u001b[0m┃\u001b[1m \u001b[0m\u001b[1mOutput Shape          \u001b[0m\u001b[1m \u001b[0m┃\u001b[1m \u001b[0m\u001b[1m      Param #\u001b[0m\u001b[1m \u001b[0m┃\n",
              "┡━━━━━━━━━━━━━━━━━━━━━━━━━━━━━━━━━╇━━━━━━━━━━━━━━━━━━━━━━━━╇━━━━━━━━━━━━━━━┩\n",
              "│ conv1 (\u001b[38;5;33mConv2D\u001b[0m)                  │ (\u001b[38;5;45mNone\u001b[0m, \u001b[38;5;34m32\u001b[0m, \u001b[38;5;34m32\u001b[0m, \u001b[38;5;34m3\u001b[0m)      │            \u001b[38;5;34m84\u001b[0m │\n",
              "├─────────────────────────────────┼────────────────────────┼───────────────┤\n",
              "│ re_lu_25 (\u001b[38;5;33mReLU\u001b[0m)                 │ (\u001b[38;5;45mNone\u001b[0m, \u001b[38;5;34m32\u001b[0m, \u001b[38;5;34m32\u001b[0m, \u001b[38;5;34m3\u001b[0m)      │             \u001b[38;5;34m0\u001b[0m │\n",
              "├─────────────────────────────────┼────────────────────────┼───────────────┤\n",
              "│ conv2 (\u001b[38;5;33mConv2D\u001b[0m)                  │ (\u001b[38;5;45mNone\u001b[0m, \u001b[38;5;34m32\u001b[0m, \u001b[38;5;34m32\u001b[0m, \u001b[38;5;34m3\u001b[0m)      │            \u001b[38;5;34m84\u001b[0m │\n",
              "├─────────────────────────────────┼────────────────────────┼───────────────┤\n",
              "│ re_lu_26 (\u001b[38;5;33mReLU\u001b[0m)                 │ (\u001b[38;5;45mNone\u001b[0m, \u001b[38;5;34m32\u001b[0m, \u001b[38;5;34m32\u001b[0m, \u001b[38;5;34m3\u001b[0m)      │             \u001b[38;5;34m0\u001b[0m │\n",
              "├─────────────────────────────────┼────────────────────────┼───────────────┤\n",
              "│ pool (\u001b[38;5;33mMaxPooling2D\u001b[0m)             │ (\u001b[38;5;45mNone\u001b[0m, \u001b[38;5;34m16\u001b[0m, \u001b[38;5;34m16\u001b[0m, \u001b[38;5;34m3\u001b[0m)      │             \u001b[38;5;34m0\u001b[0m │\n",
              "├─────────────────────────────────┼────────────────────────┼───────────────┤\n",
              "│ flatten_10 (\u001b[38;5;33mFlatten\u001b[0m)            │ (\u001b[38;5;45mNone\u001b[0m, \u001b[38;5;34m768\u001b[0m)            │             \u001b[38;5;34m0\u001b[0m │\n",
              "├─────────────────────────────────┼────────────────────────┼───────────────┤\n",
              "│ fc (\u001b[38;5;33mDense\u001b[0m)                      │ (\u001b[38;5;45mNone\u001b[0m, \u001b[38;5;34m10\u001b[0m)             │         \u001b[38;5;34m7,690\u001b[0m │\n",
              "└─────────────────────────────────┴────────────────────────┴───────────────┘\n"
            ],
            "text/html": [
              "<pre style=\"white-space:pre;overflow-x:auto;line-height:normal;font-family:Menlo,'DejaVu Sans Mono',consolas,'Courier New',monospace\">┏━━━━━━━━━━━━━━━━━━━━━━━━━━━━━━━━━┳━━━━━━━━━━━━━━━━━━━━━━━━┳━━━━━━━━━━━━━━━┓\n",
              "┃<span style=\"font-weight: bold\"> Layer (type)                    </span>┃<span style=\"font-weight: bold\"> Output Shape           </span>┃<span style=\"font-weight: bold\">       Param # </span>┃\n",
              "┡━━━━━━━━━━━━━━━━━━━━━━━━━━━━━━━━━╇━━━━━━━━━━━━━━━━━━━━━━━━╇━━━━━━━━━━━━━━━┩\n",
              "│ conv1 (<span style=\"color: #0087ff; text-decoration-color: #0087ff\">Conv2D</span>)                  │ (<span style=\"color: #00d7ff; text-decoration-color: #00d7ff\">None</span>, <span style=\"color: #00af00; text-decoration-color: #00af00\">32</span>, <span style=\"color: #00af00; text-decoration-color: #00af00\">32</span>, <span style=\"color: #00af00; text-decoration-color: #00af00\">3</span>)      │            <span style=\"color: #00af00; text-decoration-color: #00af00\">84</span> │\n",
              "├─────────────────────────────────┼────────────────────────┼───────────────┤\n",
              "│ re_lu_25 (<span style=\"color: #0087ff; text-decoration-color: #0087ff\">ReLU</span>)                 │ (<span style=\"color: #00d7ff; text-decoration-color: #00d7ff\">None</span>, <span style=\"color: #00af00; text-decoration-color: #00af00\">32</span>, <span style=\"color: #00af00; text-decoration-color: #00af00\">32</span>, <span style=\"color: #00af00; text-decoration-color: #00af00\">3</span>)      │             <span style=\"color: #00af00; text-decoration-color: #00af00\">0</span> │\n",
              "├─────────────────────────────────┼────────────────────────┼───────────────┤\n",
              "│ conv2 (<span style=\"color: #0087ff; text-decoration-color: #0087ff\">Conv2D</span>)                  │ (<span style=\"color: #00d7ff; text-decoration-color: #00d7ff\">None</span>, <span style=\"color: #00af00; text-decoration-color: #00af00\">32</span>, <span style=\"color: #00af00; text-decoration-color: #00af00\">32</span>, <span style=\"color: #00af00; text-decoration-color: #00af00\">3</span>)      │            <span style=\"color: #00af00; text-decoration-color: #00af00\">84</span> │\n",
              "├─────────────────────────────────┼────────────────────────┼───────────────┤\n",
              "│ re_lu_26 (<span style=\"color: #0087ff; text-decoration-color: #0087ff\">ReLU</span>)                 │ (<span style=\"color: #00d7ff; text-decoration-color: #00d7ff\">None</span>, <span style=\"color: #00af00; text-decoration-color: #00af00\">32</span>, <span style=\"color: #00af00; text-decoration-color: #00af00\">32</span>, <span style=\"color: #00af00; text-decoration-color: #00af00\">3</span>)      │             <span style=\"color: #00af00; text-decoration-color: #00af00\">0</span> │\n",
              "├─────────────────────────────────┼────────────────────────┼───────────────┤\n",
              "│ pool (<span style=\"color: #0087ff; text-decoration-color: #0087ff\">MaxPooling2D</span>)             │ (<span style=\"color: #00d7ff; text-decoration-color: #00d7ff\">None</span>, <span style=\"color: #00af00; text-decoration-color: #00af00\">16</span>, <span style=\"color: #00af00; text-decoration-color: #00af00\">16</span>, <span style=\"color: #00af00; text-decoration-color: #00af00\">3</span>)      │             <span style=\"color: #00af00; text-decoration-color: #00af00\">0</span> │\n",
              "├─────────────────────────────────┼────────────────────────┼───────────────┤\n",
              "│ flatten_10 (<span style=\"color: #0087ff; text-decoration-color: #0087ff\">Flatten</span>)            │ (<span style=\"color: #00d7ff; text-decoration-color: #00d7ff\">None</span>, <span style=\"color: #00af00; text-decoration-color: #00af00\">768</span>)            │             <span style=\"color: #00af00; text-decoration-color: #00af00\">0</span> │\n",
              "├─────────────────────────────────┼────────────────────────┼───────────────┤\n",
              "│ fc (<span style=\"color: #0087ff; text-decoration-color: #0087ff\">Dense</span>)                      │ (<span style=\"color: #00d7ff; text-decoration-color: #00d7ff\">None</span>, <span style=\"color: #00af00; text-decoration-color: #00af00\">10</span>)             │         <span style=\"color: #00af00; text-decoration-color: #00af00\">7,690</span> │\n",
              "└─────────────────────────────────┴────────────────────────┴───────────────┘\n",
              "</pre>\n"
            ]
          },
          "metadata": {}
        },
        {
          "output_type": "display_data",
          "data": {
            "text/plain": [
              "\u001b[1m Total params: \u001b[0m\u001b[38;5;34m7,858\u001b[0m (30.70 KB)\n"
            ],
            "text/html": [
              "<pre style=\"white-space:pre;overflow-x:auto;line-height:normal;font-family:Menlo,'DejaVu Sans Mono',consolas,'Courier New',monospace\"><span style=\"font-weight: bold\"> Total params: </span><span style=\"color: #00af00; text-decoration-color: #00af00\">7,858</span> (30.70 KB)\n",
              "</pre>\n"
            ]
          },
          "metadata": {}
        },
        {
          "output_type": "display_data",
          "data": {
            "text/plain": [
              "\u001b[1m Trainable params: \u001b[0m\u001b[38;5;34m7,858\u001b[0m (30.70 KB)\n"
            ],
            "text/html": [
              "<pre style=\"white-space:pre;overflow-x:auto;line-height:normal;font-family:Menlo,'DejaVu Sans Mono',consolas,'Courier New',monospace\"><span style=\"font-weight: bold\"> Trainable params: </span><span style=\"color: #00af00; text-decoration-color: #00af00\">7,858</span> (30.70 KB)\n",
              "</pre>\n"
            ]
          },
          "metadata": {}
        },
        {
          "output_type": "display_data",
          "data": {
            "text/plain": [
              "\u001b[1m Non-trainable params: \u001b[0m\u001b[38;5;34m0\u001b[0m (0.00 B)\n"
            ],
            "text/html": [
              "<pre style=\"white-space:pre;overflow-x:auto;line-height:normal;font-family:Menlo,'DejaVu Sans Mono',consolas,'Courier New',monospace\"><span style=\"font-weight: bold\"> Non-trainable params: </span><span style=\"color: #00af00; text-decoration-color: #00af00\">0</span> (0.00 B)\n",
              "</pre>\n"
            ]
          },
          "metadata": {}
        }
      ],
      "source": [
        "model = Sequential([\n",
        "    Input(shape=(32, 32, 3)),\n",
        "    Conv2D(3, (3, 3), padding='same', name='conv1'),\n",
        "    ReLU(),\n",
        "    Conv2D(3, (3, 3), padding='same', name='conv2'),\n",
        "    ReLU(),\n",
        "    MaxPooling2D(pool_size=2, strides=2, name='pool'),\n",
        "    Flatten(),\n",
        "    Dense(10, activation='softmax', name='fc')\n",
        "])\n",
        "\n",
        "model.summary()"
      ]
    },
    {
      "cell_type": "code",
      "execution_count": 175,
      "metadata": {
        "id": "Tv4ifWnqusD1"
      },
      "outputs": [],
      "source": [
        "model.compile(optimizer='adam',\n",
        "              loss='sparse_categorical_crossentropy',\n",
        "              metrics=['accuracy'])"
      ]
    },
    {
      "cell_type": "code",
      "execution_count": 176,
      "metadata": {
        "colab": {
          "base_uri": "https://localhost:8080/"
        },
        "id": "rbTFua7Su0Y4",
        "outputId": "1133534f-bcf5-4afd-caa4-73cb76b424f5"
      },
      "outputs": [
        {
          "output_type": "stream",
          "name": "stdout",
          "text": [
            "Epoch 1/5\n",
            "\u001b[1m704/704\u001b[0m \u001b[32m━━━━━━━━━━━━━━━━━━━━\u001b[0m\u001b[37m\u001b[0m \u001b[1m38s\u001b[0m 53ms/step - accuracy: 0.2901 - loss: 1.9501 - val_accuracy: 0.4430 - val_loss: 1.5682\n",
            "Epoch 2/5\n",
            "\u001b[1m704/704\u001b[0m \u001b[32m━━━━━━━━━━━━━━━━━━━━\u001b[0m\u001b[37m\u001b[0m \u001b[1m41s\u001b[0m 52ms/step - accuracy: 0.4427 - loss: 1.5648 - val_accuracy: 0.4576 - val_loss: 1.5306\n",
            "Epoch 3/5\n",
            "\u001b[1m704/704\u001b[0m \u001b[32m━━━━━━━━━━━━━━━━━━━━\u001b[0m\u001b[37m\u001b[0m \u001b[1m42s\u001b[0m 53ms/step - accuracy: 0.4561 - loss: 1.5126 - val_accuracy: 0.4594 - val_loss: 1.5079\n",
            "Epoch 4/5\n",
            "\u001b[1m704/704\u001b[0m \u001b[32m━━━━━━━━━━━━━━━━━━━━\u001b[0m\u001b[37m\u001b[0m \u001b[1m41s\u001b[0m 53ms/step - accuracy: 0.4741 - loss: 1.4702 - val_accuracy: 0.4808 - val_loss: 1.4635\n",
            "Epoch 5/5\n",
            "\u001b[1m704/704\u001b[0m \u001b[32m━━━━━━━━━━━━━━━━━━━━\u001b[0m\u001b[37m\u001b[0m \u001b[1m36s\u001b[0m 52ms/step - accuracy: 0.4877 - loss: 1.4361 - val_accuracy: 0.4872 - val_loss: 1.4488\n"
          ]
        },
        {
          "output_type": "execute_result",
          "data": {
            "text/plain": [
              "<keras.src.callbacks.history.History at 0x7b3a623b1990>"
            ]
          },
          "metadata": {},
          "execution_count": 176
        }
      ],
      "source": [
        "model.fit(x_train, y_train, epochs=5, batch_size=64, validation_split=0.1)"
      ]
    },
    {
      "cell_type": "markdown",
      "source": [
        "### Library Predictions"
      ],
      "metadata": {
        "id": "gIZ7L8-wJT8G"
      }
    },
    {
      "cell_type": "code",
      "source": [
        "predictions = model.predict(x_test)\n",
        "o_y_pred = np.argmax(predictions, axis=1)"
      ],
      "metadata": {
        "colab": {
          "base_uri": "https://localhost:8080/"
        },
        "id": "gkHq11hd-axg",
        "outputId": "b526613e-807d-4f3e-f7bb-774bc7abb456"
      },
      "execution_count": 177,
      "outputs": [
        {
          "output_type": "stream",
          "name": "stdout",
          "text": [
            "\u001b[1m313/313\u001b[0m \u001b[32m━━━━━━━━━━━━━━━━━━━━\u001b[0m\u001b[37m\u001b[0m \u001b[1m3s\u001b[0m 11ms/step\n"
          ]
        }
      ]
    },
    {
      "cell_type": "code",
      "source": [
        "o_macro_f1 = f1_score(y_test.flatten(), o_y_pred, average='macro')\n",
        "print(\"Macro F1-score:\", o_macro_f1)"
      ],
      "metadata": {
        "colab": {
          "base_uri": "https://localhost:8080/"
        },
        "id": "rA70Vyyo-6Bc",
        "outputId": "c2730244-d532-41ef-bc49-adadc4366e38"
      },
      "execution_count": 178,
      "outputs": [
        {
          "output_type": "stream",
          "name": "stdout",
          "text": [
            "Macro F1-score: 0.46777719439512644\n"
          ]
        }
      ]
    },
    {
      "cell_type": "markdown",
      "source": [
        "### Scratch Predictions"
      ],
      "metadata": {
        "id": "7r0YwrbHJYfU"
      }
    },
    {
      "cell_type": "code",
      "execution_count": 11,
      "metadata": {
        "id": "I3vFYzNru71N"
      },
      "outputs": [],
      "source": [
        "conv1_w, conv1_b = model.get_layer('conv1').get_weights()\n",
        "conv2_w, conv2_b = model.get_layer('conv2').get_weights()\n",
        "fc_w, fc_b = model.get_layer('fc').get_weights()"
      ]
    },
    {
      "cell_type": "code",
      "execution_count": 12,
      "metadata": {
        "colab": {
          "base_uri": "https://localhost:8080/"
        },
        "id": "2LUE4n8MwKcl",
        "outputId": "b605a045-cae9-4183-aadb-5773886c7f4d",
        "collapsed": true
      },
      "outputs": [
        {
          "output_type": "execute_result",
          "data": {
            "text/plain": [
              "(array([[[[ 0.20181686,  0.19474499,  0.00804396],\n",
              "          [-0.11266521, -0.25518844, -0.31679237],\n",
              "          [ 0.40867725, -0.47322714,  0.36957493]],\n",
              " \n",
              "         [[-0.0821192 , -0.2499137 , -0.3775914 ],\n",
              "          [ 0.16276164, -0.33007005, -0.15938143],\n",
              "          [ 0.2908762 , -0.2647806 , -0.01479527]],\n",
              " \n",
              "         [[-0.31781787, -0.00726388, -0.13554287],\n",
              "          [-0.00971645,  0.3641677 , -0.32769293],\n",
              "          [ 0.29409412,  0.3871966 ,  0.05439963]]],\n",
              " \n",
              " \n",
              "        [[[-0.17280091,  0.12756315,  0.16013134],\n",
              "          [ 0.15562387,  0.14784586,  0.17921151],\n",
              "          [ 0.24181925,  0.07690808,  0.16184941]],\n",
              " \n",
              "         [[ 0.23799606, -0.21667224, -0.19326784],\n",
              "          [ 0.3407795 ,  0.06195481, -0.21412583],\n",
              "          [-0.16232531, -0.3183983 ,  0.00501129]],\n",
              " \n",
              "         [[ 0.04662353,  0.02961974, -0.06483708],\n",
              "          [ 0.30988178,  0.2624365 , -0.3721563 ],\n",
              "          [ 0.23959991,  0.14202787,  0.07830749]]],\n",
              " \n",
              " \n",
              "        [[[ 0.06943567,  0.1843286 ,  0.33345637],\n",
              "          [ 0.26829457,  0.26715678,  0.2880946 ],\n",
              "          [-0.0690381 , -0.00481211,  0.4696478 ]],\n",
              " \n",
              "         [[ 0.09155654,  0.08285903,  0.3520187 ],\n",
              "          [ 0.06190379, -0.11611134,  0.3472945 ],\n",
              "          [-0.19443235,  0.23068112,  0.13365921]],\n",
              " \n",
              "         [[ 0.07079166,  0.417466  ,  0.05583037],\n",
              "          [-0.1931455 , -0.1267527 , -0.2983219 ],\n",
              "          [ 0.15557761, -0.2581192 ,  0.21574794]]]], dtype=float32),\n",
              " (3, 3, 3, 3))"
            ]
          },
          "metadata": {},
          "execution_count": 12
        }
      ],
      "source": [
        "conv1_w, conv1_w.shape"
      ]
    },
    {
      "cell_type": "code",
      "execution_count": 13,
      "metadata": {
        "colab": {
          "base_uri": "https://localhost:8080/"
        },
        "id": "wFkzH9duwQ01",
        "outputId": "ea78f5b4-e32c-444c-f7ce-1c32efc64336",
        "collapsed": true
      },
      "outputs": [
        {
          "output_type": "execute_result",
          "data": {
            "text/plain": [
              "(array([[[[ 0.03726431, -0.04329776, -0.32589334],\n",
              "          [-0.29146555, -0.2240454 ,  0.24700452],\n",
              "          [-0.14667055, -0.23373052,  0.2509729 ]],\n",
              " \n",
              "         [[ 0.2554796 , -0.22173457, -0.11864993],\n",
              "          [ 0.44950828, -0.26475924,  0.26496837],\n",
              "          [ 0.4340542 , -0.3946044 ,  0.07627098]],\n",
              " \n",
              "         [[-0.13139462,  0.15514335,  0.18540359],\n",
              "          [ 0.13218279, -0.02844604,  0.06677617],\n",
              "          [-0.21880315, -0.26002833,  0.32291237]]],\n",
              " \n",
              " \n",
              "        [[[ 0.10768411,  0.0871352 , -0.33612633],\n",
              "          [-0.17196949, -0.11817883, -0.16816796],\n",
              "          [-0.2532712 ,  0.17764385, -0.097929  ]],\n",
              " \n",
              "         [[-0.14606182,  0.09871736, -0.08329248],\n",
              "          [-0.17038411, -0.02135123,  0.21269305],\n",
              "          [ 0.1871723 ,  0.04938828, -0.0348822 ]],\n",
              " \n",
              "         [[ 0.11526012,  0.15266487, -0.19320324],\n",
              "          [ 0.70019907,  0.00457225, -0.0241727 ],\n",
              "          [ 0.29055884,  0.21923181,  0.2424934 ]]],\n",
              " \n",
              " \n",
              "        [[[-0.13880196, -0.11337296,  0.26523793],\n",
              "          [ 0.53198904, -0.5317841 ,  0.5290418 ],\n",
              "          [ 0.07451131,  0.30295905, -0.3254633 ]],\n",
              " \n",
              "         [[-0.0563697 ,  0.21222697, -0.21194793],\n",
              "          [-0.72743446, -0.15818536, -0.15943658],\n",
              "          [-0.5454097 , -0.00727137,  0.14941011]],\n",
              " \n",
              "         [[ 0.02157153,  0.19497071,  0.28568897],\n",
              "          [-0.5810161 , -0.06096226, -0.09796453],\n",
              "          [-0.47632143,  0.28397813,  0.41739216]]]], dtype=float32),\n",
              " (3, 3, 3, 3))"
            ]
          },
          "metadata": {},
          "execution_count": 13
        }
      ],
      "source": [
        "conv2_w, conv2_w.shape"
      ]
    },
    {
      "cell_type": "code",
      "source": [
        "conv1_b, conv1_b.shape"
      ],
      "metadata": {
        "colab": {
          "base_uri": "https://localhost:8080/"
        },
        "id": "QsW-IPGnk7UI",
        "outputId": "fd6241e3-dea5-4f8c-b47a-224de9cec3d3"
      },
      "execution_count": 14,
      "outputs": [
        {
          "output_type": "execute_result",
          "data": {
            "text/plain": [
              "(array([-0.11831132,  0.02476181, -0.00595454], dtype=float32), (3,))"
            ]
          },
          "metadata": {},
          "execution_count": 14
        }
      ]
    },
    {
      "cell_type": "code",
      "source": [
        "conv2_b, conv2_b.shape"
      ],
      "metadata": {
        "colab": {
          "base_uri": "https://localhost:8080/"
        },
        "id": "Cs8uejTflD0F",
        "outputId": "050b1993-52f8-425b-f313-6f9a74306168"
      },
      "execution_count": 15,
      "outputs": [
        {
          "output_type": "execute_result",
          "data": {
            "text/plain": [
              "(array([ 0.12033126, -0.1203998 , -0.00382589], dtype=float32), (3,))"
            ]
          },
          "metadata": {},
          "execution_count": 15
        }
      ]
    },
    {
      "cell_type": "code",
      "source": [
        "fc_w, fc_w.shape"
      ],
      "metadata": {
        "colab": {
          "base_uri": "https://localhost:8080/"
        },
        "collapsed": true,
        "id": "47N4YEVNlIEw",
        "outputId": "1574bc8e-156e-4948-fe91-c4c3cbbc3bdf"
      },
      "execution_count": 16,
      "outputs": [
        {
          "output_type": "execute_result",
          "data": {
            "text/plain": [
              "(array([[-0.08995786,  0.04566785,  0.19041502, ..., -0.00058044,\n",
              "          0.1197348 , -0.07899575],\n",
              "        [-0.0345566 , -0.03962869, -0.0402116 , ...,  0.08866517,\n",
              "          0.1311681 ,  0.04759823],\n",
              "        [ 0.05337271, -0.02347573,  0.06782243, ...,  0.00174745,\n",
              "          0.05324924,  0.04649727],\n",
              "        ...,\n",
              "        [ 0.02796304, -0.04837867,  0.14498526, ...,  0.0217226 ,\n",
              "         -0.10165522, -0.02030138],\n",
              "        [-0.05486171,  0.08126017, -0.09379694, ...,  0.11447231,\n",
              "         -0.08688059,  0.07627547],\n",
              "        [ 0.31614193, -0.08955158, -0.06384657, ..., -0.16196084,\n",
              "          0.20120344, -0.11255185]], dtype=float32),\n",
              " (768, 10))"
            ]
          },
          "metadata": {},
          "execution_count": 16
        }
      ]
    },
    {
      "cell_type": "code",
      "source": [
        "fc_b, fc_b.shape"
      ],
      "metadata": {
        "colab": {
          "base_uri": "https://localhost:8080/"
        },
        "collapsed": true,
        "id": "HsWitwiVlKFO",
        "outputId": "aefebd57-c506-4031-b0dc-50243e60695a"
      },
      "execution_count": 17,
      "outputs": [
        {
          "output_type": "execute_result",
          "data": {
            "text/plain": [
              "(array([-0.07741845, -0.33600414,  0.34297237,  0.2539658 ,  0.2990938 ,\n",
              "         0.13127244, -0.12809493, -0.22993518,  0.01215785, -0.33301428],\n",
              "       dtype=float32),\n",
              " (10,))"
            ]
          },
          "metadata": {},
          "execution_count": 17
        }
      ]
    },
    {
      "cell_type": "code",
      "source": [
        "# Convert conv weights to NCHW\n",
        "conv1_w_nchw = conv1_w.transpose(3, 2, 0, 1)\n",
        "conv2_w_nchw = conv2_w.transpose(3, 2, 0, 1)"
      ],
      "metadata": {
        "id": "VkIdS4e7kFut"
      },
      "execution_count": 18,
      "outputs": []
    },
    {
      "cell_type": "code",
      "source": [
        "np.savez(\"trained_cnn_data.npz\",\n",
        "         conv1_w=conv1_w_nchw, conv1_b=conv1_b,\n",
        "         conv2_w=conv2_w_nchw, conv2_b=conv2_b,\n",
        "         fc_w=fc_w.T, fc_b=fc_b)  # fc_w: (10, flattened_size)"
      ],
      "metadata": {
        "id": "z1MYNVJjkOTu"
      },
      "execution_count": 19,
      "outputs": []
    },
    {
      "cell_type": "code",
      "source": [
        "data = np.load(\"trained_cnn_data.npz\")"
      ],
      "metadata": {
        "id": "N19cTMuJqKX5"
      },
      "execution_count": 36,
      "outputs": []
    },
    {
      "cell_type": "code",
      "source": [
        "myModel = MySequential()\n",
        "\n",
        "myModel.add(Conv2DScratch(data[\"conv1_w\"], data[\"conv1_b\"], padding=1))\n",
        "myModel.add(ReLUScratch())\n",
        "myModel.add(Conv2DScratch(data[\"conv2_w\"], data[\"conv2_b\"], padding=1))\n",
        "myModel.add(ReLUScratch())\n",
        "myModel.add(MaxPool2DScratch())\n",
        "myModel.add(FlattenScratch())\n",
        "myModel.add(DenseScratch(data[\"fc_w\"], data[\"fc_b\"]))"
      ],
      "metadata": {
        "id": "KhOn-yvwnVA4"
      },
      "execution_count": 45,
      "outputs": []
    },
    {
      "cell_type": "code",
      "source": [
        "y_pred = []\n",
        "\n",
        "for i in range(len(x_test)):\n",
        "    img = x_test[i].transpose(2, 0, 1)\n",
        "    out = myModel.forward(img)\n",
        "    pred = np.argmax(out)\n",
        "    y_pred.append(pred)\n",
        "\n",
        "y_pred = np.array(y_pred)"
      ],
      "metadata": {
        "id": "a3B81d2fqxqN"
      },
      "execution_count": 50,
      "outputs": []
    },
    {
      "cell_type": "code",
      "source": [
        "label_counts = np.bincount(y_pred, minlength=10)\n",
        "\n",
        "for label, count in enumerate(label_counts):\n",
        "    print(f\"Label {label}: {count} samples\")"
      ],
      "metadata": {
        "colab": {
          "base_uri": "https://localhost:8080/"
        },
        "id": "NGEXHHGFrUUY",
        "outputId": "9a5d39b4-b837-4e10-9445-01ed353f86a0"
      },
      "execution_count": 54,
      "outputs": [
        {
          "output_type": "stream",
          "name": "stdout",
          "text": [
            "Label 0: 242 samples\n",
            "Label 1: 6903 samples\n",
            "Label 2: 46 samples\n",
            "Label 3: 139 samples\n",
            "Label 4: 141 samples\n",
            "Label 5: 101 samples\n",
            "Label 6: 16 samples\n",
            "Label 7: 842 samples\n",
            "Label 8: 121 samples\n",
            "Label 9: 1449 samples\n"
          ]
        }
      ]
    },
    {
      "cell_type": "code",
      "source": [
        "macro_f1 = f1_score(y_test, y_pred, average='macro')\n",
        "print(\"Macro F1-score:\", macro_f1)"
      ],
      "metadata": {
        "colab": {
          "base_uri": "https://localhost:8080/"
        },
        "id": "RYb9A_RJrYaJ",
        "outputId": "e2f48e7f-4c84-4ada-8de5-0f42ee781223"
      },
      "execution_count": 57,
      "outputs": [
        {
          "output_type": "stream",
          "name": "stdout",
          "text": [
            "Macro F1-score: 0.05977427224581109\n"
          ]
        }
      ]
    },
    {
      "cell_type": "markdown",
      "source": [
        "## Filters = 3, padding = 1, kernel-size = 3x3, n_conv_layer = 2, AveragePooling"
      ],
      "metadata": {
        "id": "D9PN43dbKeFd"
      }
    },
    {
      "cell_type": "markdown",
      "source": [
        "### Library Inititalization"
      ],
      "metadata": {
        "id": "TI7bDPnwKl05"
      }
    },
    {
      "cell_type": "code",
      "source": [
        "model = Sequential([\n",
        "    Input(shape=(32, 32, 3)),\n",
        "    Conv2D(3, (3, 3), padding='same', name='conv1'),\n",
        "    ReLU(),\n",
        "    Conv2D(3, (3, 3), padding='same', name='conv2'),\n",
        "    ReLU(),\n",
        "    AveragePooling2D(pool_size=2, strides=2, name='pool'),\n",
        "    Flatten(),\n",
        "    Dense(10, activation='softmax', name='fc')\n",
        "])\n",
        "\n",
        "model.summary()"
      ],
      "metadata": {
        "colab": {
          "base_uri": "https://localhost:8080/",
          "height": 350
        },
        "id": "lTADNm1uKvWV",
        "outputId": "4dc58142-350d-499b-aaa9-92c132b38c58"
      },
      "execution_count": 179,
      "outputs": [
        {
          "output_type": "display_data",
          "data": {
            "text/plain": [
              "\u001b[1mModel: \"sequential_11\"\u001b[0m\n"
            ],
            "text/html": [
              "<pre style=\"white-space:pre;overflow-x:auto;line-height:normal;font-family:Menlo,'DejaVu Sans Mono',consolas,'Courier New',monospace\"><span style=\"font-weight: bold\">Model: \"sequential_11\"</span>\n",
              "</pre>\n"
            ]
          },
          "metadata": {}
        },
        {
          "output_type": "display_data",
          "data": {
            "text/plain": [
              "┏━━━━━━━━━━━━━━━━━━━━━━━━━━━━━━━━━┳━━━━━━━━━━━━━━━━━━━━━━━━┳━━━━━━━━━━━━━━━┓\n",
              "┃\u001b[1m \u001b[0m\u001b[1mLayer (type)                   \u001b[0m\u001b[1m \u001b[0m┃\u001b[1m \u001b[0m\u001b[1mOutput Shape          \u001b[0m\u001b[1m \u001b[0m┃\u001b[1m \u001b[0m\u001b[1m      Param #\u001b[0m\u001b[1m \u001b[0m┃\n",
              "┡━━━━━━━━━━━━━━━━━━━━━━━━━━━━━━━━━╇━━━━━━━━━━━━━━━━━━━━━━━━╇━━━━━━━━━━━━━━━┩\n",
              "│ conv1 (\u001b[38;5;33mConv2D\u001b[0m)                  │ (\u001b[38;5;45mNone\u001b[0m, \u001b[38;5;34m32\u001b[0m, \u001b[38;5;34m32\u001b[0m, \u001b[38;5;34m3\u001b[0m)      │            \u001b[38;5;34m84\u001b[0m │\n",
              "├─────────────────────────────────┼────────────────────────┼───────────────┤\n",
              "│ re_lu_27 (\u001b[38;5;33mReLU\u001b[0m)                 │ (\u001b[38;5;45mNone\u001b[0m, \u001b[38;5;34m32\u001b[0m, \u001b[38;5;34m32\u001b[0m, \u001b[38;5;34m3\u001b[0m)      │             \u001b[38;5;34m0\u001b[0m │\n",
              "├─────────────────────────────────┼────────────────────────┼───────────────┤\n",
              "│ conv2 (\u001b[38;5;33mConv2D\u001b[0m)                  │ (\u001b[38;5;45mNone\u001b[0m, \u001b[38;5;34m32\u001b[0m, \u001b[38;5;34m32\u001b[0m, \u001b[38;5;34m3\u001b[0m)      │            \u001b[38;5;34m84\u001b[0m │\n",
              "├─────────────────────────────────┼────────────────────────┼───────────────┤\n",
              "│ re_lu_28 (\u001b[38;5;33mReLU\u001b[0m)                 │ (\u001b[38;5;45mNone\u001b[0m, \u001b[38;5;34m32\u001b[0m, \u001b[38;5;34m32\u001b[0m, \u001b[38;5;34m3\u001b[0m)      │             \u001b[38;5;34m0\u001b[0m │\n",
              "├─────────────────────────────────┼────────────────────────┼───────────────┤\n",
              "│ pool (\u001b[38;5;33mAveragePooling2D\u001b[0m)         │ (\u001b[38;5;45mNone\u001b[0m, \u001b[38;5;34m16\u001b[0m, \u001b[38;5;34m16\u001b[0m, \u001b[38;5;34m3\u001b[0m)      │             \u001b[38;5;34m0\u001b[0m │\n",
              "├─────────────────────────────────┼────────────────────────┼───────────────┤\n",
              "│ flatten_11 (\u001b[38;5;33mFlatten\u001b[0m)            │ (\u001b[38;5;45mNone\u001b[0m, \u001b[38;5;34m768\u001b[0m)            │             \u001b[38;5;34m0\u001b[0m │\n",
              "├─────────────────────────────────┼────────────────────────┼───────────────┤\n",
              "│ fc (\u001b[38;5;33mDense\u001b[0m)                      │ (\u001b[38;5;45mNone\u001b[0m, \u001b[38;5;34m10\u001b[0m)             │         \u001b[38;5;34m7,690\u001b[0m │\n",
              "└─────────────────────────────────┴────────────────────────┴───────────────┘\n"
            ],
            "text/html": [
              "<pre style=\"white-space:pre;overflow-x:auto;line-height:normal;font-family:Menlo,'DejaVu Sans Mono',consolas,'Courier New',monospace\">┏━━━━━━━━━━━━━━━━━━━━━━━━━━━━━━━━━┳━━━━━━━━━━━━━━━━━━━━━━━━┳━━━━━━━━━━━━━━━┓\n",
              "┃<span style=\"font-weight: bold\"> Layer (type)                    </span>┃<span style=\"font-weight: bold\"> Output Shape           </span>┃<span style=\"font-weight: bold\">       Param # </span>┃\n",
              "┡━━━━━━━━━━━━━━━━━━━━━━━━━━━━━━━━━╇━━━━━━━━━━━━━━━━━━━━━━━━╇━━━━━━━━━━━━━━━┩\n",
              "│ conv1 (<span style=\"color: #0087ff; text-decoration-color: #0087ff\">Conv2D</span>)                  │ (<span style=\"color: #00d7ff; text-decoration-color: #00d7ff\">None</span>, <span style=\"color: #00af00; text-decoration-color: #00af00\">32</span>, <span style=\"color: #00af00; text-decoration-color: #00af00\">32</span>, <span style=\"color: #00af00; text-decoration-color: #00af00\">3</span>)      │            <span style=\"color: #00af00; text-decoration-color: #00af00\">84</span> │\n",
              "├─────────────────────────────────┼────────────────────────┼───────────────┤\n",
              "│ re_lu_27 (<span style=\"color: #0087ff; text-decoration-color: #0087ff\">ReLU</span>)                 │ (<span style=\"color: #00d7ff; text-decoration-color: #00d7ff\">None</span>, <span style=\"color: #00af00; text-decoration-color: #00af00\">32</span>, <span style=\"color: #00af00; text-decoration-color: #00af00\">32</span>, <span style=\"color: #00af00; text-decoration-color: #00af00\">3</span>)      │             <span style=\"color: #00af00; text-decoration-color: #00af00\">0</span> │\n",
              "├─────────────────────────────────┼────────────────────────┼───────────────┤\n",
              "│ conv2 (<span style=\"color: #0087ff; text-decoration-color: #0087ff\">Conv2D</span>)                  │ (<span style=\"color: #00d7ff; text-decoration-color: #00d7ff\">None</span>, <span style=\"color: #00af00; text-decoration-color: #00af00\">32</span>, <span style=\"color: #00af00; text-decoration-color: #00af00\">32</span>, <span style=\"color: #00af00; text-decoration-color: #00af00\">3</span>)      │            <span style=\"color: #00af00; text-decoration-color: #00af00\">84</span> │\n",
              "├─────────────────────────────────┼────────────────────────┼───────────────┤\n",
              "│ re_lu_28 (<span style=\"color: #0087ff; text-decoration-color: #0087ff\">ReLU</span>)                 │ (<span style=\"color: #00d7ff; text-decoration-color: #00d7ff\">None</span>, <span style=\"color: #00af00; text-decoration-color: #00af00\">32</span>, <span style=\"color: #00af00; text-decoration-color: #00af00\">32</span>, <span style=\"color: #00af00; text-decoration-color: #00af00\">3</span>)      │             <span style=\"color: #00af00; text-decoration-color: #00af00\">0</span> │\n",
              "├─────────────────────────────────┼────────────────────────┼───────────────┤\n",
              "│ pool (<span style=\"color: #0087ff; text-decoration-color: #0087ff\">AveragePooling2D</span>)         │ (<span style=\"color: #00d7ff; text-decoration-color: #00d7ff\">None</span>, <span style=\"color: #00af00; text-decoration-color: #00af00\">16</span>, <span style=\"color: #00af00; text-decoration-color: #00af00\">16</span>, <span style=\"color: #00af00; text-decoration-color: #00af00\">3</span>)      │             <span style=\"color: #00af00; text-decoration-color: #00af00\">0</span> │\n",
              "├─────────────────────────────────┼────────────────────────┼───────────────┤\n",
              "│ flatten_11 (<span style=\"color: #0087ff; text-decoration-color: #0087ff\">Flatten</span>)            │ (<span style=\"color: #00d7ff; text-decoration-color: #00d7ff\">None</span>, <span style=\"color: #00af00; text-decoration-color: #00af00\">768</span>)            │             <span style=\"color: #00af00; text-decoration-color: #00af00\">0</span> │\n",
              "├─────────────────────────────────┼────────────────────────┼───────────────┤\n",
              "│ fc (<span style=\"color: #0087ff; text-decoration-color: #0087ff\">Dense</span>)                      │ (<span style=\"color: #00d7ff; text-decoration-color: #00d7ff\">None</span>, <span style=\"color: #00af00; text-decoration-color: #00af00\">10</span>)             │         <span style=\"color: #00af00; text-decoration-color: #00af00\">7,690</span> │\n",
              "└─────────────────────────────────┴────────────────────────┴───────────────┘\n",
              "</pre>\n"
            ]
          },
          "metadata": {}
        },
        {
          "output_type": "display_data",
          "data": {
            "text/plain": [
              "\u001b[1m Total params: \u001b[0m\u001b[38;5;34m7,858\u001b[0m (30.70 KB)\n"
            ],
            "text/html": [
              "<pre style=\"white-space:pre;overflow-x:auto;line-height:normal;font-family:Menlo,'DejaVu Sans Mono',consolas,'Courier New',monospace\"><span style=\"font-weight: bold\"> Total params: </span><span style=\"color: #00af00; text-decoration-color: #00af00\">7,858</span> (30.70 KB)\n",
              "</pre>\n"
            ]
          },
          "metadata": {}
        },
        {
          "output_type": "display_data",
          "data": {
            "text/plain": [
              "\u001b[1m Trainable params: \u001b[0m\u001b[38;5;34m7,858\u001b[0m (30.70 KB)\n"
            ],
            "text/html": [
              "<pre style=\"white-space:pre;overflow-x:auto;line-height:normal;font-family:Menlo,'DejaVu Sans Mono',consolas,'Courier New',monospace\"><span style=\"font-weight: bold\"> Trainable params: </span><span style=\"color: #00af00; text-decoration-color: #00af00\">7,858</span> (30.70 KB)\n",
              "</pre>\n"
            ]
          },
          "metadata": {}
        },
        {
          "output_type": "display_data",
          "data": {
            "text/plain": [
              "\u001b[1m Non-trainable params: \u001b[0m\u001b[38;5;34m0\u001b[0m (0.00 B)\n"
            ],
            "text/html": [
              "<pre style=\"white-space:pre;overflow-x:auto;line-height:normal;font-family:Menlo,'DejaVu Sans Mono',consolas,'Courier New',monospace\"><span style=\"font-weight: bold\"> Non-trainable params: </span><span style=\"color: #00af00; text-decoration-color: #00af00\">0</span> (0.00 B)\n",
              "</pre>\n"
            ]
          },
          "metadata": {}
        }
      ]
    },
    {
      "cell_type": "code",
      "source": [
        "model.compile(optimizer='adam',\n",
        "              loss='sparse_categorical_crossentropy',\n",
        "              metrics=['accuracy'])"
      ],
      "metadata": {
        "id": "S7pm7KpoLEQ2"
      },
      "execution_count": 180,
      "outputs": []
    },
    {
      "cell_type": "code",
      "source": [
        "model.fit(x_train, y_train, epochs=5, batch_size=64, validation_split=0.1)"
      ],
      "metadata": {
        "colab": {
          "base_uri": "https://localhost:8080/"
        },
        "id": "KHVW1oOhLFKd",
        "outputId": "7e1bea89-54cb-4c50-85e5-7a72a0e32df7"
      },
      "execution_count": 181,
      "outputs": [
        {
          "output_type": "stream",
          "name": "stdout",
          "text": [
            "Epoch 1/5\n",
            "\u001b[1m704/704\u001b[0m \u001b[32m━━━━━━━━━━━━━━━━━━━━\u001b[0m\u001b[37m\u001b[0m \u001b[1m39s\u001b[0m 54ms/step - accuracy: 0.2718 - loss: 1.9981 - val_accuracy: 0.4220 - val_loss: 1.6409\n",
            "Epoch 2/5\n",
            "\u001b[1m704/704\u001b[0m \u001b[32m━━━━━━━━━━━━━━━━━━━━\u001b[0m\u001b[37m\u001b[0m \u001b[1m36s\u001b[0m 51ms/step - accuracy: 0.4325 - loss: 1.6072 - val_accuracy: 0.4540 - val_loss: 1.5280\n",
            "Epoch 3/5\n",
            "\u001b[1m704/704\u001b[0m \u001b[32m━━━━━━━━━━━━━━━━━━━━\u001b[0m\u001b[37m\u001b[0m \u001b[1m40s\u001b[0m 51ms/step - accuracy: 0.4659 - loss: 1.5026 - val_accuracy: 0.4600 - val_loss: 1.4915\n",
            "Epoch 4/5\n",
            "\u001b[1m704/704\u001b[0m \u001b[32m━━━━━━━━━━━━━━━━━━━━\u001b[0m\u001b[37m\u001b[0m \u001b[1m42s\u001b[0m 53ms/step - accuracy: 0.4864 - loss: 1.4517 - val_accuracy: 0.4824 - val_loss: 1.4496\n",
            "Epoch 5/5\n",
            "\u001b[1m704/704\u001b[0m \u001b[32m━━━━━━━━━━━━━━━━━━━━\u001b[0m\u001b[37m\u001b[0m \u001b[1m39s\u001b[0m 50ms/step - accuracy: 0.4843 - loss: 1.4403 - val_accuracy: 0.4840 - val_loss: 1.4352\n"
          ]
        },
        {
          "output_type": "execute_result",
          "data": {
            "text/plain": [
              "<keras.src.callbacks.history.History at 0x7b3a5ef24290>"
            ]
          },
          "metadata": {},
          "execution_count": 181
        }
      ]
    },
    {
      "cell_type": "markdown",
      "source": [
        "### Library Prediction"
      ],
      "metadata": {
        "id": "ifSKkXGVLYW2"
      }
    },
    {
      "cell_type": "code",
      "source": [
        "predictions = model.predict(x_test)\n",
        "o_y_pred = np.argmax(predictions, axis=1)"
      ],
      "metadata": {
        "colab": {
          "base_uri": "https://localhost:8080/"
        },
        "id": "tAaAKigaLKre",
        "outputId": "9a1d135e-e173-4258-8ab3-8538e89bc677"
      },
      "execution_count": 182,
      "outputs": [
        {
          "output_type": "stream",
          "name": "stdout",
          "text": [
            "\u001b[1m313/313\u001b[0m \u001b[32m━━━━━━━━━━━━━━━━━━━━\u001b[0m\u001b[37m\u001b[0m \u001b[1m5s\u001b[0m 15ms/step\n"
          ]
        }
      ]
    },
    {
      "cell_type": "code",
      "source": [
        "o_macro_f1 = f1_score(y_test.flatten(), o_y_pred, average='macro')\n",
        "print(\"Macro F1-score:\", o_macro_f1)"
      ],
      "metadata": {
        "colab": {
          "base_uri": "https://localhost:8080/"
        },
        "id": "I4-mKaldLd48",
        "outputId": "3dd10ecb-b6b5-408f-869f-759b2e139a67"
      },
      "execution_count": 183,
      "outputs": [
        {
          "output_type": "stream",
          "name": "stdout",
          "text": [
            "Macro F1-score: 0.47572486486052645\n"
          ]
        }
      ]
    },
    {
      "cell_type": "markdown",
      "source": [
        "Scratch Prediction"
      ],
      "metadata": {
        "id": "3NjW1w_oMW3q"
      }
    },
    {
      "cell_type": "code",
      "source": [
        "conv1_w, conv1_b = model.get_layer('conv1').get_weights()\n",
        "conv2_w, conv2_b = model.get_layer('conv2').get_weights()\n",
        "fc_w, fc_b = model.get_layer('fc').get_weights()"
      ],
      "metadata": {
        "id": "dcJt6wRWMZ4z"
      },
      "execution_count": 78,
      "outputs": []
    },
    {
      "cell_type": "code",
      "source": [
        "# Convert conv weights to NCHW\n",
        "conv1_w_nchw = conv1_w.transpose(3, 2, 0, 1)\n",
        "conv2_w_nchw = conv2_w.transpose(3, 2, 0, 1)"
      ],
      "metadata": {
        "id": "E-JFGROHMg6r"
      },
      "execution_count": 79,
      "outputs": []
    },
    {
      "cell_type": "code",
      "source": [
        "np.savez(\"trained_cnn_data.npz\",\n",
        "         conv1_w=conv1_w_nchw, conv1_b=conv1_b,\n",
        "         conv2_w=conv2_w_nchw, conv2_b=conv2_b,\n",
        "         fc_w=fc_w.T, fc_b=fc_b)  # fc_w: (10, flattened_size)"
      ],
      "metadata": {
        "id": "3R1oDXETMhgH"
      },
      "execution_count": 80,
      "outputs": []
    },
    {
      "cell_type": "code",
      "source": [
        "data = np.load(\"trained_cnn_data.npz\")"
      ],
      "metadata": {
        "id": "p4nJTE92MvYZ"
      },
      "execution_count": 81,
      "outputs": []
    },
    {
      "cell_type": "code",
      "source": [
        "myModel = MySequential()\n",
        "\n",
        "myModel.add(Conv2DScratch(data[\"conv1_w\"], data[\"conv1_b\"], padding=1))\n",
        "myModel.add(ReLUScratch())\n",
        "myModel.add(Conv2DScratch(data[\"conv2_w\"], data[\"conv2_b\"], padding=1))\n",
        "myModel.add(ReLUScratch())\n",
        "myModel.add(AveragePool2DScratch())\n",
        "myModel.add(FlattenScratch())\n",
        "myModel.add(DenseScratch(data[\"fc_w\"], data[\"fc_b\"]))"
      ],
      "metadata": {
        "id": "ZjcQ4qRBMzQy"
      },
      "execution_count": 82,
      "outputs": []
    },
    {
      "cell_type": "code",
      "source": [
        "y_pred = []\n",
        "\n",
        "for i in range(len(x_test)):\n",
        "    img = x_test[i].transpose(2, 0, 1)\n",
        "    out = myModel.forward(img)\n",
        "    pred = np.argmax(out)\n",
        "    y_pred.append(pred)\n",
        "\n",
        "y_pred = np.array(y_pred)"
      ],
      "metadata": {
        "id": "TgHNbTSfM572"
      },
      "execution_count": 83,
      "outputs": []
    },
    {
      "cell_type": "code",
      "source": [
        "label_counts = np.bincount(y_pred, minlength=10)\n",
        "\n",
        "for label, count in enumerate(label_counts):\n",
        "    print(f\"Label {label}: {count} samples\")"
      ],
      "metadata": {
        "colab": {
          "base_uri": "https://localhost:8080/"
        },
        "id": "anTSYfJCM6br",
        "outputId": "1d09f0d7-178c-4de2-97d6-0c44f77e838c"
      },
      "execution_count": 84,
      "outputs": [
        {
          "output_type": "stream",
          "name": "stdout",
          "text": [
            "Label 0: 1276 samples\n",
            "Label 1: 2038 samples\n",
            "Label 2: 9 samples\n",
            "Label 3: 15 samples\n",
            "Label 4: 0 samples\n",
            "Label 5: 1 samples\n",
            "Label 6: 0 samples\n",
            "Label 7: 0 samples\n",
            "Label 8: 5016 samples\n",
            "Label 9: 1645 samples\n"
          ]
        }
      ]
    },
    {
      "cell_type": "code",
      "source": [
        "macro_f1 = f1_score(y_test, y_pred, average='macro')\n",
        "print(\"Macro F1-score:\", macro_f1)"
      ],
      "metadata": {
        "colab": {
          "base_uri": "https://localhost:8080/"
        },
        "id": "jsQ04J-7NCBY",
        "outputId": "3e2b44ec-3d8f-42fc-9763-ee3d9d3bfd78"
      },
      "execution_count": 85,
      "outputs": [
        {
          "output_type": "stream",
          "name": "stdout",
          "text": [
            "Macro F1-score: 0.06641523821151936\n"
          ]
        }
      ]
    },
    {
      "cell_type": "markdown",
      "source": [
        "## Filters = 3, padding = 1, kernel-size = 3x3, n_conv_layer = 3, MaxPooling"
      ],
      "metadata": {
        "id": "FAd3hsoBS8sC"
      }
    },
    {
      "cell_type": "markdown",
      "source": [
        "### Library Initiation"
      ],
      "metadata": {
        "id": "klaHfW6tTKMp"
      }
    },
    {
      "cell_type": "code",
      "source": [
        "model = Sequential([\n",
        "    Input(shape=(32, 32, 3)),\n",
        "    Conv2D(3, (3, 3), padding='same', name='conv1'),\n",
        "    ReLU(),\n",
        "    Conv2D(3, (3, 3), padding='same', name='conv2'),\n",
        "    ReLU(),\n",
        "    Conv2D(3, (3, 3), padding='same', name='conv3'),\n",
        "    ReLU(),\n",
        "    MaxPooling2D(pool_size=2, strides=2, name='pool'),\n",
        "    Flatten(),\n",
        "    Dense(10, activation='softmax', name='fc')\n",
        "])\n",
        "\n",
        "model.summary()"
      ],
      "metadata": {
        "colab": {
          "base_uri": "https://localhost:8080/",
          "height": 414
        },
        "id": "SY7H8sYETIP0",
        "outputId": "8498310f-a578-445d-98a9-8e535d71177a"
      },
      "execution_count": 184,
      "outputs": [
        {
          "output_type": "display_data",
          "data": {
            "text/plain": [
              "\u001b[1mModel: \"sequential_12\"\u001b[0m\n"
            ],
            "text/html": [
              "<pre style=\"white-space:pre;overflow-x:auto;line-height:normal;font-family:Menlo,'DejaVu Sans Mono',consolas,'Courier New',monospace\"><span style=\"font-weight: bold\">Model: \"sequential_12\"</span>\n",
              "</pre>\n"
            ]
          },
          "metadata": {}
        },
        {
          "output_type": "display_data",
          "data": {
            "text/plain": [
              "┏━━━━━━━━━━━━━━━━━━━━━━━━━━━━━━━━━┳━━━━━━━━━━━━━━━━━━━━━━━━┳━━━━━━━━━━━━━━━┓\n",
              "┃\u001b[1m \u001b[0m\u001b[1mLayer (type)                   \u001b[0m\u001b[1m \u001b[0m┃\u001b[1m \u001b[0m\u001b[1mOutput Shape          \u001b[0m\u001b[1m \u001b[0m┃\u001b[1m \u001b[0m\u001b[1m      Param #\u001b[0m\u001b[1m \u001b[0m┃\n",
              "┡━━━━━━━━━━━━━━━━━━━━━━━━━━━━━━━━━╇━━━━━━━━━━━━━━━━━━━━━━━━╇━━━━━━━━━━━━━━━┩\n",
              "│ conv1 (\u001b[38;5;33mConv2D\u001b[0m)                  │ (\u001b[38;5;45mNone\u001b[0m, \u001b[38;5;34m32\u001b[0m, \u001b[38;5;34m32\u001b[0m, \u001b[38;5;34m3\u001b[0m)      │            \u001b[38;5;34m84\u001b[0m │\n",
              "├─────────────────────────────────┼────────────────────────┼───────────────┤\n",
              "│ re_lu_29 (\u001b[38;5;33mReLU\u001b[0m)                 │ (\u001b[38;5;45mNone\u001b[0m, \u001b[38;5;34m32\u001b[0m, \u001b[38;5;34m32\u001b[0m, \u001b[38;5;34m3\u001b[0m)      │             \u001b[38;5;34m0\u001b[0m │\n",
              "├─────────────────────────────────┼────────────────────────┼───────────────┤\n",
              "│ conv2 (\u001b[38;5;33mConv2D\u001b[0m)                  │ (\u001b[38;5;45mNone\u001b[0m, \u001b[38;5;34m32\u001b[0m, \u001b[38;5;34m32\u001b[0m, \u001b[38;5;34m3\u001b[0m)      │            \u001b[38;5;34m84\u001b[0m │\n",
              "├─────────────────────────────────┼────────────────────────┼───────────────┤\n",
              "│ re_lu_30 (\u001b[38;5;33mReLU\u001b[0m)                 │ (\u001b[38;5;45mNone\u001b[0m, \u001b[38;5;34m32\u001b[0m, \u001b[38;5;34m32\u001b[0m, \u001b[38;5;34m3\u001b[0m)      │             \u001b[38;5;34m0\u001b[0m │\n",
              "├─────────────────────────────────┼────────────────────────┼───────────────┤\n",
              "│ conv3 (\u001b[38;5;33mConv2D\u001b[0m)                  │ (\u001b[38;5;45mNone\u001b[0m, \u001b[38;5;34m32\u001b[0m, \u001b[38;5;34m32\u001b[0m, \u001b[38;5;34m3\u001b[0m)      │            \u001b[38;5;34m84\u001b[0m │\n",
              "├─────────────────────────────────┼────────────────────────┼───────────────┤\n",
              "│ re_lu_31 (\u001b[38;5;33mReLU\u001b[0m)                 │ (\u001b[38;5;45mNone\u001b[0m, \u001b[38;5;34m32\u001b[0m, \u001b[38;5;34m32\u001b[0m, \u001b[38;5;34m3\u001b[0m)      │             \u001b[38;5;34m0\u001b[0m │\n",
              "├─────────────────────────────────┼────────────────────────┼───────────────┤\n",
              "│ pool (\u001b[38;5;33mMaxPooling2D\u001b[0m)             │ (\u001b[38;5;45mNone\u001b[0m, \u001b[38;5;34m16\u001b[0m, \u001b[38;5;34m16\u001b[0m, \u001b[38;5;34m3\u001b[0m)      │             \u001b[38;5;34m0\u001b[0m │\n",
              "├─────────────────────────────────┼────────────────────────┼───────────────┤\n",
              "│ flatten_12 (\u001b[38;5;33mFlatten\u001b[0m)            │ (\u001b[38;5;45mNone\u001b[0m, \u001b[38;5;34m768\u001b[0m)            │             \u001b[38;5;34m0\u001b[0m │\n",
              "├─────────────────────────────────┼────────────────────────┼───────────────┤\n",
              "│ fc (\u001b[38;5;33mDense\u001b[0m)                      │ (\u001b[38;5;45mNone\u001b[0m, \u001b[38;5;34m10\u001b[0m)             │         \u001b[38;5;34m7,690\u001b[0m │\n",
              "└─────────────────────────────────┴────────────────────────┴───────────────┘\n"
            ],
            "text/html": [
              "<pre style=\"white-space:pre;overflow-x:auto;line-height:normal;font-family:Menlo,'DejaVu Sans Mono',consolas,'Courier New',monospace\">┏━━━━━━━━━━━━━━━━━━━━━━━━━━━━━━━━━┳━━━━━━━━━━━━━━━━━━━━━━━━┳━━━━━━━━━━━━━━━┓\n",
              "┃<span style=\"font-weight: bold\"> Layer (type)                    </span>┃<span style=\"font-weight: bold\"> Output Shape           </span>┃<span style=\"font-weight: bold\">       Param # </span>┃\n",
              "┡━━━━━━━━━━━━━━━━━━━━━━━━━━━━━━━━━╇━━━━━━━━━━━━━━━━━━━━━━━━╇━━━━━━━━━━━━━━━┩\n",
              "│ conv1 (<span style=\"color: #0087ff; text-decoration-color: #0087ff\">Conv2D</span>)                  │ (<span style=\"color: #00d7ff; text-decoration-color: #00d7ff\">None</span>, <span style=\"color: #00af00; text-decoration-color: #00af00\">32</span>, <span style=\"color: #00af00; text-decoration-color: #00af00\">32</span>, <span style=\"color: #00af00; text-decoration-color: #00af00\">3</span>)      │            <span style=\"color: #00af00; text-decoration-color: #00af00\">84</span> │\n",
              "├─────────────────────────────────┼────────────────────────┼───────────────┤\n",
              "│ re_lu_29 (<span style=\"color: #0087ff; text-decoration-color: #0087ff\">ReLU</span>)                 │ (<span style=\"color: #00d7ff; text-decoration-color: #00d7ff\">None</span>, <span style=\"color: #00af00; text-decoration-color: #00af00\">32</span>, <span style=\"color: #00af00; text-decoration-color: #00af00\">32</span>, <span style=\"color: #00af00; text-decoration-color: #00af00\">3</span>)      │             <span style=\"color: #00af00; text-decoration-color: #00af00\">0</span> │\n",
              "├─────────────────────────────────┼────────────────────────┼───────────────┤\n",
              "│ conv2 (<span style=\"color: #0087ff; text-decoration-color: #0087ff\">Conv2D</span>)                  │ (<span style=\"color: #00d7ff; text-decoration-color: #00d7ff\">None</span>, <span style=\"color: #00af00; text-decoration-color: #00af00\">32</span>, <span style=\"color: #00af00; text-decoration-color: #00af00\">32</span>, <span style=\"color: #00af00; text-decoration-color: #00af00\">3</span>)      │            <span style=\"color: #00af00; text-decoration-color: #00af00\">84</span> │\n",
              "├─────────────────────────────────┼────────────────────────┼───────────────┤\n",
              "│ re_lu_30 (<span style=\"color: #0087ff; text-decoration-color: #0087ff\">ReLU</span>)                 │ (<span style=\"color: #00d7ff; text-decoration-color: #00d7ff\">None</span>, <span style=\"color: #00af00; text-decoration-color: #00af00\">32</span>, <span style=\"color: #00af00; text-decoration-color: #00af00\">32</span>, <span style=\"color: #00af00; text-decoration-color: #00af00\">3</span>)      │             <span style=\"color: #00af00; text-decoration-color: #00af00\">0</span> │\n",
              "├─────────────────────────────────┼────────────────────────┼───────────────┤\n",
              "│ conv3 (<span style=\"color: #0087ff; text-decoration-color: #0087ff\">Conv2D</span>)                  │ (<span style=\"color: #00d7ff; text-decoration-color: #00d7ff\">None</span>, <span style=\"color: #00af00; text-decoration-color: #00af00\">32</span>, <span style=\"color: #00af00; text-decoration-color: #00af00\">32</span>, <span style=\"color: #00af00; text-decoration-color: #00af00\">3</span>)      │            <span style=\"color: #00af00; text-decoration-color: #00af00\">84</span> │\n",
              "├─────────────────────────────────┼────────────────────────┼───────────────┤\n",
              "│ re_lu_31 (<span style=\"color: #0087ff; text-decoration-color: #0087ff\">ReLU</span>)                 │ (<span style=\"color: #00d7ff; text-decoration-color: #00d7ff\">None</span>, <span style=\"color: #00af00; text-decoration-color: #00af00\">32</span>, <span style=\"color: #00af00; text-decoration-color: #00af00\">32</span>, <span style=\"color: #00af00; text-decoration-color: #00af00\">3</span>)      │             <span style=\"color: #00af00; text-decoration-color: #00af00\">0</span> │\n",
              "├─────────────────────────────────┼────────────────────────┼───────────────┤\n",
              "│ pool (<span style=\"color: #0087ff; text-decoration-color: #0087ff\">MaxPooling2D</span>)             │ (<span style=\"color: #00d7ff; text-decoration-color: #00d7ff\">None</span>, <span style=\"color: #00af00; text-decoration-color: #00af00\">16</span>, <span style=\"color: #00af00; text-decoration-color: #00af00\">16</span>, <span style=\"color: #00af00; text-decoration-color: #00af00\">3</span>)      │             <span style=\"color: #00af00; text-decoration-color: #00af00\">0</span> │\n",
              "├─────────────────────────────────┼────────────────────────┼───────────────┤\n",
              "│ flatten_12 (<span style=\"color: #0087ff; text-decoration-color: #0087ff\">Flatten</span>)            │ (<span style=\"color: #00d7ff; text-decoration-color: #00d7ff\">None</span>, <span style=\"color: #00af00; text-decoration-color: #00af00\">768</span>)            │             <span style=\"color: #00af00; text-decoration-color: #00af00\">0</span> │\n",
              "├─────────────────────────────────┼────────────────────────┼───────────────┤\n",
              "│ fc (<span style=\"color: #0087ff; text-decoration-color: #0087ff\">Dense</span>)                      │ (<span style=\"color: #00d7ff; text-decoration-color: #00d7ff\">None</span>, <span style=\"color: #00af00; text-decoration-color: #00af00\">10</span>)             │         <span style=\"color: #00af00; text-decoration-color: #00af00\">7,690</span> │\n",
              "└─────────────────────────────────┴────────────────────────┴───────────────┘\n",
              "</pre>\n"
            ]
          },
          "metadata": {}
        },
        {
          "output_type": "display_data",
          "data": {
            "text/plain": [
              "\u001b[1m Total params: \u001b[0m\u001b[38;5;34m7,942\u001b[0m (31.02 KB)\n"
            ],
            "text/html": [
              "<pre style=\"white-space:pre;overflow-x:auto;line-height:normal;font-family:Menlo,'DejaVu Sans Mono',consolas,'Courier New',monospace\"><span style=\"font-weight: bold\"> Total params: </span><span style=\"color: #00af00; text-decoration-color: #00af00\">7,942</span> (31.02 KB)\n",
              "</pre>\n"
            ]
          },
          "metadata": {}
        },
        {
          "output_type": "display_data",
          "data": {
            "text/plain": [
              "\u001b[1m Trainable params: \u001b[0m\u001b[38;5;34m7,942\u001b[0m (31.02 KB)\n"
            ],
            "text/html": [
              "<pre style=\"white-space:pre;overflow-x:auto;line-height:normal;font-family:Menlo,'DejaVu Sans Mono',consolas,'Courier New',monospace\"><span style=\"font-weight: bold\"> Trainable params: </span><span style=\"color: #00af00; text-decoration-color: #00af00\">7,942</span> (31.02 KB)\n",
              "</pre>\n"
            ]
          },
          "metadata": {}
        },
        {
          "output_type": "display_data",
          "data": {
            "text/plain": [
              "\u001b[1m Non-trainable params: \u001b[0m\u001b[38;5;34m0\u001b[0m (0.00 B)\n"
            ],
            "text/html": [
              "<pre style=\"white-space:pre;overflow-x:auto;line-height:normal;font-family:Menlo,'DejaVu Sans Mono',consolas,'Courier New',monospace\"><span style=\"font-weight: bold\"> Non-trainable params: </span><span style=\"color: #00af00; text-decoration-color: #00af00\">0</span> (0.00 B)\n",
              "</pre>\n"
            ]
          },
          "metadata": {}
        }
      ]
    },
    {
      "cell_type": "code",
      "source": [
        "model.compile(optimizer='adam',\n",
        "              loss='sparse_categorical_crossentropy',\n",
        "              metrics=['accuracy'])"
      ],
      "metadata": {
        "id": "s3BdYGp0Ymex"
      },
      "execution_count": 185,
      "outputs": []
    },
    {
      "cell_type": "code",
      "source": [
        "model.fit(x_train, y_train, epochs=5, batch_size=64, validation_split=0.1)"
      ],
      "metadata": {
        "colab": {
          "base_uri": "https://localhost:8080/"
        },
        "id": "XUZ7dEZBYnOy",
        "outputId": "f64b312c-22cd-417b-9a00-eac10b828ac6"
      },
      "execution_count": null,
      "outputs": [
        {
          "output_type": "stream",
          "name": "stdout",
          "text": [
            "Epoch 1/5\n",
            "\u001b[1m704/704\u001b[0m \u001b[32m━━━━━━━━━━━━━━━━━━━━\u001b[0m\u001b[37m\u001b[0m \u001b[1m57s\u001b[0m 78ms/step - accuracy: 0.2577 - loss: 2.0239 - val_accuracy: 0.4198 - val_loss: 1.6427\n",
            "Epoch 2/5\n",
            "\u001b[1m704/704\u001b[0m \u001b[32m━━━━━━━━━━━━━━━━━━━━\u001b[0m\u001b[37m\u001b[0m \u001b[1m57s\u001b[0m 81ms/step - accuracy: 0.4255 - loss: 1.6366 - val_accuracy: 0.4634 - val_loss: 1.5328\n",
            "Epoch 3/5\n",
            "\u001b[1m704/704\u001b[0m \u001b[32m━━━━━━━━━━━━━━━━━━━━\u001b[0m\u001b[37m\u001b[0m \u001b[1m81s\u001b[0m 80ms/step - accuracy: 0.4669 - loss: 1.5302 - val_accuracy: 0.4848 - val_loss: 1.4725\n",
            "Epoch 4/5\n",
            "\u001b[1m475/704\u001b[0m \u001b[32m━━━━━━━━━━━━━\u001b[0m\u001b[37m━━━━━━━\u001b[0m \u001b[1m17s\u001b[0m 75ms/step - accuracy: 0.4932 - loss: 1.4560"
          ]
        }
      ]
    },
    {
      "cell_type": "markdown",
      "source": [
        "### Library Predictions"
      ],
      "metadata": {
        "id": "graqJGVtYvFM"
      }
    },
    {
      "cell_type": "code",
      "source": [
        "predictions = model.predict(x_test)\n",
        "o_y_pred = np.argmax(predictions, axis=1)"
      ],
      "metadata": {
        "id": "zPIC7X62YsOi"
      },
      "execution_count": null,
      "outputs": []
    },
    {
      "cell_type": "code",
      "source": [
        "o_macro_f1 = f1_score(y_test.flatten(), o_y_pred, average='macro')\n",
        "print(\"Macro F1-score:\", o_macro_f1)"
      ],
      "metadata": {
        "id": "8thzbZ_TY0n1"
      },
      "execution_count": null,
      "outputs": []
    },
    {
      "cell_type": "markdown",
      "source": [
        "### Scratch Predictions"
      ],
      "metadata": {
        "id": "FwQkg277Y5Qb"
      }
    },
    {
      "cell_type": "code",
      "source": [
        "conv1_w, conv1_b = model.get_layer('conv1').get_weights()\n",
        "conv2_w, conv2_b = model.get_layer('conv2').get_weights()\n",
        "conv3_w, conv3_b = model.get_layer('conv3').get_weights()\n",
        "fc_w, fc_b = model.get_layer('fc').get_weights()"
      ],
      "metadata": {
        "id": "n89ta2bQZAV0"
      },
      "execution_count": 95,
      "outputs": []
    },
    {
      "cell_type": "code",
      "source": [
        "# Convert conv weights to NCHW\n",
        "conv1_w_nchw = conv1_w.transpose(3, 2, 0, 1)\n",
        "conv2_w_nchw = conv2_w.transpose(3, 2, 0, 1)\n",
        "conv3_w_nchw = conv3_w.transpose(3, 2, 0, 1)"
      ],
      "metadata": {
        "id": "XrXBrZ9wZH3a"
      },
      "execution_count": 96,
      "outputs": []
    },
    {
      "cell_type": "code",
      "source": [
        "np.savez(\"trained_cnn_data.npz\",\n",
        "         conv1_w=conv1_w_nchw, conv1_b=conv1_b,\n",
        "         conv2_w=conv2_w_nchw, conv2_b=conv2_b,\n",
        "         conv3_w=conv3_w_nchw, conv3_b=conv3_b,\n",
        "         fc_w=fc_w.T, fc_b=fc_b)  # fc_w: (10, flattened_size)"
      ],
      "metadata": {
        "id": "siw3nX-eZN6J"
      },
      "execution_count": 97,
      "outputs": []
    },
    {
      "cell_type": "code",
      "source": [
        "data = np.load(\"trained_cnn_data.npz\")"
      ],
      "metadata": {
        "id": "bFlnwNasZV1V"
      },
      "execution_count": 98,
      "outputs": []
    },
    {
      "cell_type": "code",
      "source": [
        "myModel = MySequential()\n",
        "\n",
        "myModel.add(Conv2DScratch(data[\"conv1_w\"], data[\"conv1_b\"], padding=1))\n",
        "myModel.add(ReLUScratch())\n",
        "myModel.add(Conv2DScratch(data[\"conv2_w\"], data[\"conv2_b\"], padding=1))\n",
        "myModel.add(ReLUScratch())\n",
        "myModel.add(Conv2DScratch(data[\"conv3_w\"], data[\"conv3_b\"], padding=1))\n",
        "myModel.add(ReLUScratch())\n",
        "myModel.add(MaxPool2DScratch())\n",
        "myModel.add(FlattenScratch())\n",
        "myModel.add(DenseScratch(data[\"fc_w\"], data[\"fc_b\"]))"
      ],
      "metadata": {
        "id": "24h217TAZY9V"
      },
      "execution_count": 101,
      "outputs": []
    },
    {
      "cell_type": "code",
      "source": [
        "y_pred = []\n",
        "\n",
        "for i in range(len(x_test)):\n",
        "    img = x_test[i].transpose(2, 0, 1)\n",
        "    out = myModel.forward(img)\n",
        "    pred = np.argmax(out)\n",
        "    y_pred.append(pred)\n",
        "\n",
        "y_pred = np.array(y_pred)"
      ],
      "metadata": {
        "id": "9Sy_qzqYZe8q"
      },
      "execution_count": 102,
      "outputs": []
    },
    {
      "cell_type": "code",
      "source": [
        "label_counts = np.bincount(y_pred, minlength=10)\n",
        "\n",
        "for label, count in enumerate(label_counts):\n",
        "    print(f\"Label {label}: {count} samples\")"
      ],
      "metadata": {
        "colab": {
          "base_uri": "https://localhost:8080/"
        },
        "id": "bngc7aFzZio8",
        "outputId": "44182ab4-03e7-40d9-d1a1-30d5c6b3e75a"
      },
      "execution_count": 103,
      "outputs": [
        {
          "output_type": "stream",
          "name": "stdout",
          "text": [
            "Label 0: 34 samples\n",
            "Label 1: 3368 samples\n",
            "Label 2: 496 samples\n",
            "Label 3: 264 samples\n",
            "Label 4: 1074 samples\n",
            "Label 5: 3878 samples\n",
            "Label 6: 452 samples\n",
            "Label 7: 395 samples\n",
            "Label 8: 12 samples\n",
            "Label 9: 27 samples\n"
          ]
        }
      ]
    },
    {
      "cell_type": "code",
      "source": [
        "macro_f1 = f1_score(y_test, y_pred, average='macro')\n",
        "print(\"Macro F1-score:\", macro_f1)"
      ],
      "metadata": {
        "colab": {
          "base_uri": "https://localhost:8080/"
        },
        "id": "1uQ_gXPzZmOK",
        "outputId": "0e4d3a08-bb0a-4848-98b6-c0533cf4ed09"
      },
      "execution_count": 104,
      "outputs": [
        {
          "output_type": "stream",
          "name": "stdout",
          "text": [
            "Macro F1-score: 0.09394425108571784\n"
          ]
        }
      ]
    },
    {
      "cell_type": "markdown",
      "source": [
        "## Filters = 3, padding = 1, kernel-size = 3x3, n_conv_layer = 4, MaxPooling"
      ],
      "metadata": {
        "id": "9JVBJ6PGZr3X"
      }
    },
    {
      "cell_type": "markdown",
      "source": [
        "### Library Initiation"
      ],
      "metadata": {
        "id": "7tC-riBxZsXQ"
      }
    },
    {
      "cell_type": "code",
      "source": [
        "model = Sequential([\n",
        "    Input(shape=(32, 32, 3)),\n",
        "    Conv2D(3, (3, 3), padding='same', name='conv1'),\n",
        "    ReLU(),\n",
        "    Conv2D(3, (3, 3), padding='same', name='conv2'),\n",
        "    ReLU(),\n",
        "    Conv2D(3, (3, 3), padding='same', name='conv3'),\n",
        "    ReLU(),\n",
        "    Conv2D(3, (3, 3), padding='same', name='conv4'),\n",
        "    ReLU(),\n",
        "    MaxPooling2D(pool_size=2, strides=2, name='pool'),\n",
        "    Flatten(),\n",
        "    Dense(10, activation='softmax', name='fc')\n",
        "])\n",
        "\n",
        "model.summary()"
      ],
      "metadata": {
        "id": "7WAA_Lu9ZrM7"
      },
      "execution_count": null,
      "outputs": []
    },
    {
      "cell_type": "code",
      "source": [
        "model.compile(optimizer='adam',\n",
        "              loss='sparse_categorical_crossentropy',\n",
        "              metrics=['accuracy'])"
      ],
      "metadata": {
        "id": "bvmhbDb0Z3lB"
      },
      "execution_count": null,
      "outputs": []
    },
    {
      "cell_type": "code",
      "source": [
        "model.fit(x_train, y_train, epochs=5, batch_size=64, validation_split=0.1)"
      ],
      "metadata": {
        "id": "uPWldBIhZ6pW"
      },
      "execution_count": null,
      "outputs": []
    },
    {
      "cell_type": "markdown",
      "source": [
        "### Library Predictions"
      ],
      "metadata": {
        "id": "_vVZrv96Z_UF"
      }
    },
    {
      "cell_type": "code",
      "source": [
        "predictions = model.predict(x_test)\n",
        "o_y_pred = np.argmax(predictions, axis=1)"
      ],
      "metadata": {
        "id": "Zk7KGqlLaBr5"
      },
      "execution_count": null,
      "outputs": []
    },
    {
      "cell_type": "code",
      "source": [
        "o_macro_f1 = f1_score(y_test.flatten(), o_y_pred, average='macro')\n",
        "print(\"Macro F1-score:\", o_macro_f1)"
      ],
      "metadata": {
        "id": "6mRjGLDjaFCX"
      },
      "execution_count": null,
      "outputs": []
    },
    {
      "cell_type": "markdown",
      "source": [
        "### Scratch Predictions"
      ],
      "metadata": {
        "id": "wr7J0YFfaJCb"
      }
    },
    {
      "cell_type": "code",
      "source": [
        "conv1_w, conv1_b = model.get_layer('conv1').get_weights()\n",
        "conv2_w, conv2_b = model.get_layer('conv2').get_weights()\n",
        "conv3_w, conv3_b = model.get_layer('conv3').get_weights()\n",
        "conv4_w, conv4_b = model.get_layer('conv4').get_weights()\n",
        "fc_w, fc_b = model.get_layer('fc').get_weights()"
      ],
      "metadata": {
        "id": "NoJWsG2aaLll"
      },
      "execution_count": 110,
      "outputs": []
    },
    {
      "cell_type": "code",
      "source": [
        "# Convert conv weights to NCHW\n",
        "conv1_w_nchw = conv1_w.transpose(3, 2, 0, 1)\n",
        "conv2_w_nchw = conv2_w.transpose(3, 2, 0, 1)\n",
        "conv3_w_nchw = conv3_w.transpose(3, 2, 0, 1)\n",
        "conv4_w_nchw = conv4_w.transpose(3, 2, 0, 1)"
      ],
      "metadata": {
        "id": "TT-GlvSoaTSj"
      },
      "execution_count": 111,
      "outputs": []
    },
    {
      "cell_type": "code",
      "source": [
        "np.savez(\"trained_cnn_data.npz\",\n",
        "         conv1_w=conv1_w_nchw, conv1_b=conv1_b,\n",
        "         conv2_w=conv2_w_nchw, conv2_b=conv2_b,\n",
        "         conv3_w=conv3_w_nchw, conv3_b=conv3_b,\n",
        "         conv4_w=conv4_w_nchw, conv4_b=conv4_b,\n",
        "         fc_w=fc_w.T, fc_b=fc_b)  # fc_w: (10, flattened_size)"
      ],
      "metadata": {
        "id": "yaiirIMuaaHw"
      },
      "execution_count": 112,
      "outputs": []
    },
    {
      "cell_type": "code",
      "source": [
        "data = np.load(\"trained_cnn_data.npz\")"
      ],
      "metadata": {
        "id": "Glbj2FgVahAY"
      },
      "execution_count": 113,
      "outputs": []
    },
    {
      "cell_type": "code",
      "source": [
        "myModel = MySequential()\n",
        "\n",
        "myModel.add(Conv2DScratch(data[\"conv1_w\"], data[\"conv1_b\"], padding=1))\n",
        "myModel.add(ReLUScratch())\n",
        "myModel.add(Conv2DScratch(data[\"conv2_w\"], data[\"conv2_b\"], padding=1))\n",
        "myModel.add(ReLUScratch())\n",
        "myModel.add(Conv2DScratch(data[\"conv3_w\"], data[\"conv3_b\"], padding=1))\n",
        "myModel.add(ReLUScratch())\n",
        "myModel.add(Conv2DScratch(data[\"conv4_w\"], data[\"conv4_b\"], padding=1))\n",
        "myModel.add(ReLUScratch())\n",
        "myModel.add(MaxPool2DScratch())\n",
        "myModel.add(FlattenScratch())\n",
        "myModel.add(DenseScratch(data[\"fc_w\"], data[\"fc_b\"]))"
      ],
      "metadata": {
        "id": "XSLh5KqzajUl"
      },
      "execution_count": 114,
      "outputs": []
    },
    {
      "cell_type": "code",
      "source": [
        "y_pred = []\n",
        "\n",
        "for i in range(len(x_test)):\n",
        "    img = x_test[i].transpose(2, 0, 1)\n",
        "    out = myModel.forward(img)\n",
        "    pred = np.argmax(out)\n",
        "    y_pred.append(pred)\n",
        "\n",
        "y_pred = np.array(y_pred)"
      ],
      "metadata": {
        "id": "iUm9DjF6a3PW"
      },
      "execution_count": 115,
      "outputs": []
    },
    {
      "cell_type": "code",
      "source": [
        "label_counts = np.bincount(y_pred, minlength=10)\n",
        "\n",
        "for label, count in enumerate(label_counts):\n",
        "    print(f\"Label {label}: {count} samples\")"
      ],
      "metadata": {
        "colab": {
          "base_uri": "https://localhost:8080/"
        },
        "id": "0wJ5CO4qa7ZR",
        "outputId": "c1dddef2-be19-486c-efa9-4336e207eed7"
      },
      "execution_count": 116,
      "outputs": [
        {
          "output_type": "stream",
          "name": "stdout",
          "text": [
            "Label 0: 2861 samples\n",
            "Label 1: 1391 samples\n",
            "Label 2: 421 samples\n",
            "Label 3: 24 samples\n",
            "Label 4: 858 samples\n",
            "Label 5: 4 samples\n",
            "Label 6: 1433 samples\n",
            "Label 7: 1353 samples\n",
            "Label 8: 10 samples\n",
            "Label 9: 1645 samples\n"
          ]
        }
      ]
    },
    {
      "cell_type": "code",
      "source": [
        "macro_f1 = f1_score(y_test, y_pred, average='macro')\n",
        "print(\"Macro F1-score:\", macro_f1)"
      ],
      "metadata": {
        "colab": {
          "base_uri": "https://localhost:8080/"
        },
        "id": "i-rRHPjLa9aR",
        "outputId": "9f840f99-c717-4882-b99a-ecc0b98192fa"
      },
      "execution_count": 117,
      "outputs": [
        {
          "output_type": "stream",
          "name": "stdout",
          "text": [
            "Macro F1-score: 0.05810960031865836\n"
          ]
        }
      ]
    },
    {
      "cell_type": "markdown",
      "source": [
        "## Filters = 2, padding = 1, kernel-size = 3x3, n_conv_layer = 2, MaxPooling"
      ],
      "metadata": {
        "id": "5_jpsYrKesfG"
      }
    },
    {
      "cell_type": "markdown",
      "source": [
        "### Library Initialization"
      ],
      "metadata": {
        "id": "YTwoLaBaeyAs"
      }
    },
    {
      "cell_type": "code",
      "source": [
        "model = Sequential([\n",
        "    Input(shape=(32, 32, 3)),\n",
        "    Conv2D(2, (3, 3), padding='same', name='conv1'),\n",
        "    ReLU(),\n",
        "    Conv2D(2, (3, 3), padding='same', name='conv2'),\n",
        "    ReLU(),\n",
        "    MaxPooling2D(pool_size=2, strides=2, name='pool'),\n",
        "    Flatten(),\n",
        "    Dense(10, activation='softmax', name='fc')\n",
        "])\n",
        "\n",
        "model.summary()"
      ],
      "metadata": {
        "id": "v50wvvl0exDt"
      },
      "execution_count": null,
      "outputs": []
    },
    {
      "cell_type": "code",
      "source": [
        "model.compile(optimizer='adam',\n",
        "              loss='sparse_categorical_crossentropy',\n",
        "              metrics=['accuracy'])"
      ],
      "metadata": {
        "id": "_7CcWxMnflPM"
      },
      "execution_count": null,
      "outputs": []
    },
    {
      "cell_type": "code",
      "source": [
        "model.fit(x_train, y_train, epochs=5, batch_size=64, validation_split=0.1)"
      ],
      "metadata": {
        "id": "vxeHs-VYfmO6"
      },
      "execution_count": null,
      "outputs": []
    },
    {
      "cell_type": "markdown",
      "source": [
        "### Library Predictions"
      ],
      "metadata": {
        "id": "T3-phDAzfxfW"
      }
    },
    {
      "cell_type": "code",
      "source": [
        "predictions = model.predict(x_test)\n",
        "o_y_pred = np.argmax(predictions, axis=1)"
      ],
      "metadata": {
        "id": "EDnyjV9gf9Rm"
      },
      "execution_count": null,
      "outputs": []
    },
    {
      "cell_type": "code",
      "source": [
        "o_macro_f1 = f1_score(y_test.flatten(), o_y_pred, average='macro')\n",
        "print(\"Macro F1-score:\", o_macro_f1)"
      ],
      "metadata": {
        "id": "LUhegvYlgBNA"
      },
      "execution_count": null,
      "outputs": []
    },
    {
      "cell_type": "markdown",
      "source": [
        "### Scratch Predictions"
      ],
      "metadata": {
        "id": "bwByiqqHf6S4"
      }
    },
    {
      "cell_type": "code",
      "source": [
        "conv1_w, conv1_b = model.get_layer('conv1').get_weights()\n",
        "conv2_w, conv2_b = model.get_layer('conv2').get_weights()\n",
        "fc_w, fc_b = model.get_layer('fc').get_weights()"
      ],
      "metadata": {
        "id": "M8jUEcONgGka"
      },
      "execution_count": 123,
      "outputs": []
    },
    {
      "cell_type": "code",
      "source": [
        "# Convert conv weights to NCHW\n",
        "conv1_w_nchw = conv1_w.transpose(3, 2, 0, 1)\n",
        "conv2_w_nchw = conv2_w.transpose(3, 2, 0, 1)"
      ],
      "metadata": {
        "id": "OuWK-XFXgG3C"
      },
      "execution_count": 124,
      "outputs": []
    },
    {
      "cell_type": "code",
      "source": [
        "np.savez(\"trained_cnn_data.npz\",\n",
        "         conv1_w=conv1_w_nchw, conv1_b=conv1_b,\n",
        "         conv2_w=conv2_w_nchw, conv2_b=conv2_b,\n",
        "         fc_w=fc_w.T, fc_b=fc_b)  # fc_w: (10, flattened_size)"
      ],
      "metadata": {
        "id": "Q1rpPcSBgVmr"
      },
      "execution_count": 125,
      "outputs": []
    },
    {
      "cell_type": "code",
      "source": [
        "data = np.load(\"trained_cnn_data.npz\")"
      ],
      "metadata": {
        "id": "ae52EnCbgV7-"
      },
      "execution_count": 126,
      "outputs": []
    },
    {
      "cell_type": "code",
      "source": [
        "myModel = MySequential()\n",
        "\n",
        "myModel.add(Conv2DScratch(data[\"conv1_w\"], data[\"conv1_b\"], padding=1))\n",
        "myModel.add(ReLUScratch())\n",
        "myModel.add(Conv2DScratch(data[\"conv2_w\"], data[\"conv2_b\"], padding=1))\n",
        "myModel.add(ReLUScratch())\n",
        "myModel.add(MaxPool2DScratch())\n",
        "myModel.add(FlattenScratch())\n",
        "myModel.add(DenseScratch(data[\"fc_w\"], data[\"fc_b\"]))"
      ],
      "metadata": {
        "id": "YG2sjh5ngiBK"
      },
      "execution_count": 127,
      "outputs": []
    },
    {
      "cell_type": "code",
      "source": [
        "y_pred = []\n",
        "\n",
        "for i in range(len(x_test)):\n",
        "    img = x_test[i].transpose(2, 0, 1)\n",
        "    out = myModel.forward(img)\n",
        "    pred = np.argmax(out)\n",
        "    y_pred.append(pred)\n",
        "\n",
        "y_pred = np.array(y_pred)"
      ],
      "metadata": {
        "id": "TiClfh1Mgu98"
      },
      "execution_count": 128,
      "outputs": []
    },
    {
      "cell_type": "code",
      "source": [
        "label_counts = np.bincount(y_pred, minlength=10)\n",
        "\n",
        "for label, count in enumerate(label_counts):\n",
        "    print(f\"Label {label}: {count} samples\")"
      ],
      "metadata": {
        "colab": {
          "base_uri": "https://localhost:8080/"
        },
        "id": "Vah5NnGEg05k",
        "outputId": "9634dd52-b9de-4a30-e9f9-91e1f6cacaa8"
      },
      "execution_count": 129,
      "outputs": [
        {
          "output_type": "stream",
          "name": "stdout",
          "text": [
            "Label 0: 6 samples\n",
            "Label 1: 262 samples\n",
            "Label 2: 55 samples\n",
            "Label 3: 9467 samples\n",
            "Label 4: 0 samples\n",
            "Label 5: 14 samples\n",
            "Label 6: 143 samples\n",
            "Label 7: 1 samples\n",
            "Label 8: 17 samples\n",
            "Label 9: 35 samples\n"
          ]
        }
      ]
    },
    {
      "cell_type": "code",
      "source": [
        "macro_f1 = f1_score(y_test, y_pred, average='macro')\n",
        "print(\"Macro F1-score:\", macro_f1)"
      ],
      "metadata": {
        "colab": {
          "base_uri": "https://localhost:8080/"
        },
        "id": "JKhh4iXmg5G3",
        "outputId": "baaad081-4063-4693-a1d9-1f5be41b02a6"
      },
      "execution_count": 130,
      "outputs": [
        {
          "output_type": "stream",
          "name": "stdout",
          "text": [
            "Macro F1-score: 0.03572897797601249\n"
          ]
        }
      ]
    },
    {
      "cell_type": "markdown",
      "source": [
        "## Filters = 4, padding = 1, kernel-size = 3x3, n_conv_layer = 2, MaxPooling"
      ],
      "metadata": {
        "id": "v_oXonukfbhb"
      }
    },
    {
      "cell_type": "markdown",
      "source": [
        "### Library Initialization"
      ],
      "metadata": {
        "id": "PH2d8bZDffT9"
      }
    },
    {
      "cell_type": "code",
      "source": [
        "model = Sequential([\n",
        "    Input(shape=(32, 32, 3)),\n",
        "    Conv2D(4, (3, 3), padding='same', name='conv1'),\n",
        "    ReLU(),\n",
        "    Conv2D(4, (3, 3), padding='same', name='conv2'),\n",
        "    ReLU(),\n",
        "    MaxPooling2D(pool_size=2, strides=2, name='pool'),\n",
        "    Flatten(),\n",
        "    Dense(10, activation='softmax', name='fc')\n",
        "])\n",
        "\n",
        "model.summary()"
      ],
      "metadata": {
        "id": "qsdpG2-rfepz"
      },
      "execution_count": null,
      "outputs": []
    },
    {
      "cell_type": "code",
      "source": [
        "model.compile(optimizer='adam',\n",
        "              loss='sparse_categorical_crossentropy',\n",
        "              metrics=['accuracy'])"
      ],
      "metadata": {
        "id": "dSmgIvdyflg0"
      },
      "execution_count": null,
      "outputs": []
    },
    {
      "cell_type": "code",
      "source": [
        "model.fit(x_train, y_train, epochs=5, batch_size=64, validation_split=0.1)"
      ],
      "metadata": {
        "id": "hgr3XCHPflsQ"
      },
      "execution_count": null,
      "outputs": []
    },
    {
      "cell_type": "markdown",
      "source": [
        "### Library Predictions"
      ],
      "metadata": {
        "id": "rjrQxWfvf0Ac"
      }
    },
    {
      "cell_type": "code",
      "source": [
        "predictions = model.predict(x_test)\n",
        "o_y_pred = np.argmax(predictions, axis=1)"
      ],
      "metadata": {
        "id": "01awD40PgAdG"
      },
      "execution_count": null,
      "outputs": []
    },
    {
      "cell_type": "code",
      "source": [
        "o_macro_f1 = f1_score(y_test.flatten(), o_y_pred, average='macro')\n",
        "print(\"Macro F1-score:\", o_macro_f1)"
      ],
      "metadata": {
        "id": "Qkb1irRVgA1K"
      },
      "execution_count": null,
      "outputs": []
    },
    {
      "cell_type": "markdown",
      "source": [
        "### Scratch Predictions"
      ],
      "metadata": {
        "id": "PBvMBxW-f3dK"
      }
    },
    {
      "cell_type": "code",
      "source": [
        "conv1_w, conv1_b = model.get_layer('conv1').get_weights()\n",
        "conv2_w, conv2_b = model.get_layer('conv2').get_weights()\n",
        "fc_w, fc_b = model.get_layer('fc').get_weights()"
      ],
      "metadata": {
        "id": "IifodVwYgHli"
      },
      "execution_count": 136,
      "outputs": []
    },
    {
      "cell_type": "code",
      "source": [
        "# Convert conv weights to NCHW\n",
        "conv1_w_nchw = conv1_w.transpose(3, 2, 0, 1)\n",
        "conv2_w_nchw = conv2_w.transpose(3, 2, 0, 1)"
      ],
      "metadata": {
        "id": "gq0cfH7fgH4M"
      },
      "execution_count": 137,
      "outputs": []
    },
    {
      "cell_type": "code",
      "source": [
        "np.savez(\"trained_cnn_data.npz\",\n",
        "         conv1_w=conv1_w_nchw, conv1_b=conv1_b,\n",
        "         conv2_w=conv2_w_nchw, conv2_b=conv2_b,\n",
        "         fc_w=fc_w.T, fc_b=fc_b)  # fc_w: (10, flattened_size)"
      ],
      "metadata": {
        "id": "oEJ9PzOGgVIE"
      },
      "execution_count": 138,
      "outputs": []
    },
    {
      "cell_type": "code",
      "source": [
        "data = np.load(\"trained_cnn_data.npz\")"
      ],
      "metadata": {
        "id": "yEynpbhdgWTE"
      },
      "execution_count": 139,
      "outputs": []
    },
    {
      "cell_type": "code",
      "source": [
        "myModel = MySequential()\n",
        "\n",
        "myModel.add(Conv2DScratch(data[\"conv1_w\"], data[\"conv1_b\"], padding=1))\n",
        "myModel.add(ReLUScratch())\n",
        "myModel.add(Conv2DScratch(data[\"conv2_w\"], data[\"conv2_b\"], padding=1))\n",
        "myModel.add(ReLUScratch())\n",
        "myModel.add(MaxPool2DScratch())\n",
        "myModel.add(FlattenScratch())\n",
        "myModel.add(DenseScratch(data[\"fc_w\"], data[\"fc_b\"]))"
      ],
      "metadata": {
        "id": "N1nO1biAghXT"
      },
      "execution_count": 140,
      "outputs": []
    },
    {
      "cell_type": "code",
      "source": [
        "y_pred = []\n",
        "\n",
        "for i in range(len(x_test)):\n",
        "    img = x_test[i].transpose(2, 0, 1)\n",
        "    out = myModel.forward(img)\n",
        "    pred = np.argmax(out)\n",
        "    y_pred.append(pred)\n",
        "\n",
        "y_pred = np.array(y_pred)"
      ],
      "metadata": {
        "id": "7qUPMj-egvrF"
      },
      "execution_count": 141,
      "outputs": []
    },
    {
      "cell_type": "code",
      "source": [
        "label_counts = np.bincount(y_pred, minlength=10)\n",
        "\n",
        "for label, count in enumerate(label_counts):\n",
        "    print(f\"Label {label}: {count} samples\")"
      ],
      "metadata": {
        "colab": {
          "base_uri": "https://localhost:8080/"
        },
        "id": "9xuaj2zpg1b0",
        "outputId": "ef4d5b04-5fe2-4191-ac1a-a5936c02e792"
      },
      "execution_count": 142,
      "outputs": [
        {
          "output_type": "stream",
          "name": "stdout",
          "text": [
            "Label 0: 3291 samples\n",
            "Label 1: 4370 samples\n",
            "Label 2: 1 samples\n",
            "Label 3: 6 samples\n",
            "Label 4: 3 samples\n",
            "Label 5: 0 samples\n",
            "Label 6: 121 samples\n",
            "Label 7: 827 samples\n",
            "Label 8: 1200 samples\n",
            "Label 9: 181 samples\n"
          ]
        }
      ]
    },
    {
      "cell_type": "code",
      "source": [
        "macro_f1 = f1_score(y_test, y_pred, average='macro')\n",
        "print(\"Macro F1-score:\", macro_f1)"
      ],
      "metadata": {
        "colab": {
          "base_uri": "https://localhost:8080/"
        },
        "id": "VZ0gI01eg4Gl",
        "outputId": "d48001c3-70bf-497e-d6ce-09437b3143f0"
      },
      "execution_count": 143,
      "outputs": [
        {
          "output_type": "stream",
          "name": "stdout",
          "text": [
            "Macro F1-score: 0.06162947789160027\n"
          ]
        }
      ]
    },
    {
      "cell_type": "markdown",
      "source": [
        "## Filters = 3, padding = 2, kernel-size = 5x5, n_conv_layer = 2, MaxPooling"
      ],
      "metadata": {
        "id": "B1ZSk-U_z9L4"
      }
    },
    {
      "cell_type": "markdown",
      "source": [
        "### Library Initialization"
      ],
      "metadata": {
        "id": "shW9Kz930DRd"
      }
    },
    {
      "cell_type": "code",
      "source": [
        "model = Sequential([\n",
        "    Input(shape=(32, 32, 3)),\n",
        "    Conv2D(3, (5, 5), padding='same', name='conv1'),\n",
        "    ReLU(),\n",
        "    Conv2D(3, (5, 5), padding='same', name='conv2'),\n",
        "    ReLU(),\n",
        "    MaxPooling2D(pool_size=2, strides=2, name='pool'),\n",
        "    Flatten(),\n",
        "    Dense(10, activation='softmax', name='fc')\n",
        "])\n",
        "\n",
        "model.summary()"
      ],
      "metadata": {
        "colab": {
          "base_uri": "https://localhost:8080/",
          "height": 350
        },
        "id": "s17OSGOw0Pm7",
        "outputId": "a44c4b82-27a1-47fd-f319-cc29c07e3d29"
      },
      "execution_count": 144,
      "outputs": [
        {
          "output_type": "display_data",
          "data": {
            "text/plain": [
              "\u001b[1mModel: \"sequential_8\"\u001b[0m\n"
            ],
            "text/html": [
              "<pre style=\"white-space:pre;overflow-x:auto;line-height:normal;font-family:Menlo,'DejaVu Sans Mono',consolas,'Courier New',monospace\"><span style=\"font-weight: bold\">Model: \"sequential_8\"</span>\n",
              "</pre>\n"
            ]
          },
          "metadata": {}
        },
        {
          "output_type": "display_data",
          "data": {
            "text/plain": [
              "┏━━━━━━━━━━━━━━━━━━━━━━━━━━━━━━━━━┳━━━━━━━━━━━━━━━━━━━━━━━━┳━━━━━━━━━━━━━━━┓\n",
              "┃\u001b[1m \u001b[0m\u001b[1mLayer (type)                   \u001b[0m\u001b[1m \u001b[0m┃\u001b[1m \u001b[0m\u001b[1mOutput Shape          \u001b[0m\u001b[1m \u001b[0m┃\u001b[1m \u001b[0m\u001b[1m      Param #\u001b[0m\u001b[1m \u001b[0m┃\n",
              "┡━━━━━━━━━━━━━━━━━━━━━━━━━━━━━━━━━╇━━━━━━━━━━━━━━━━━━━━━━━━╇━━━━━━━━━━━━━━━┩\n",
              "│ conv1 (\u001b[38;5;33mConv2D\u001b[0m)                  │ (\u001b[38;5;45mNone\u001b[0m, \u001b[38;5;34m32\u001b[0m, \u001b[38;5;34m32\u001b[0m, \u001b[38;5;34m3\u001b[0m)      │           \u001b[38;5;34m228\u001b[0m │\n",
              "├─────────────────────────────────┼────────────────────────┼───────────────┤\n",
              "│ re_lu_21 (\u001b[38;5;33mReLU\u001b[0m)                 │ (\u001b[38;5;45mNone\u001b[0m, \u001b[38;5;34m32\u001b[0m, \u001b[38;5;34m32\u001b[0m, \u001b[38;5;34m3\u001b[0m)      │             \u001b[38;5;34m0\u001b[0m │\n",
              "├─────────────────────────────────┼────────────────────────┼───────────────┤\n",
              "│ conv2 (\u001b[38;5;33mConv2D\u001b[0m)                  │ (\u001b[38;5;45mNone\u001b[0m, \u001b[38;5;34m32\u001b[0m, \u001b[38;5;34m32\u001b[0m, \u001b[38;5;34m3\u001b[0m)      │           \u001b[38;5;34m228\u001b[0m │\n",
              "├─────────────────────────────────┼────────────────────────┼───────────────┤\n",
              "│ re_lu_22 (\u001b[38;5;33mReLU\u001b[0m)                 │ (\u001b[38;5;45mNone\u001b[0m, \u001b[38;5;34m32\u001b[0m, \u001b[38;5;34m32\u001b[0m, \u001b[38;5;34m3\u001b[0m)      │             \u001b[38;5;34m0\u001b[0m │\n",
              "├─────────────────────────────────┼────────────────────────┼───────────────┤\n",
              "│ pool (\u001b[38;5;33mMaxPooling2D\u001b[0m)             │ (\u001b[38;5;45mNone\u001b[0m, \u001b[38;5;34m16\u001b[0m, \u001b[38;5;34m16\u001b[0m, \u001b[38;5;34m3\u001b[0m)      │             \u001b[38;5;34m0\u001b[0m │\n",
              "├─────────────────────────────────┼────────────────────────┼───────────────┤\n",
              "│ flatten_8 (\u001b[38;5;33mFlatten\u001b[0m)             │ (\u001b[38;5;45mNone\u001b[0m, \u001b[38;5;34m768\u001b[0m)            │             \u001b[38;5;34m0\u001b[0m │\n",
              "├─────────────────────────────────┼────────────────────────┼───────────────┤\n",
              "│ fc (\u001b[38;5;33mDense\u001b[0m)                      │ (\u001b[38;5;45mNone\u001b[0m, \u001b[38;5;34m10\u001b[0m)             │         \u001b[38;5;34m7,690\u001b[0m │\n",
              "└─────────────────────────────────┴────────────────────────┴───────────────┘\n"
            ],
            "text/html": [
              "<pre style=\"white-space:pre;overflow-x:auto;line-height:normal;font-family:Menlo,'DejaVu Sans Mono',consolas,'Courier New',monospace\">┏━━━━━━━━━━━━━━━━━━━━━━━━━━━━━━━━━┳━━━━━━━━━━━━━━━━━━━━━━━━┳━━━━━━━━━━━━━━━┓\n",
              "┃<span style=\"font-weight: bold\"> Layer (type)                    </span>┃<span style=\"font-weight: bold\"> Output Shape           </span>┃<span style=\"font-weight: bold\">       Param # </span>┃\n",
              "┡━━━━━━━━━━━━━━━━━━━━━━━━━━━━━━━━━╇━━━━━━━━━━━━━━━━━━━━━━━━╇━━━━━━━━━━━━━━━┩\n",
              "│ conv1 (<span style=\"color: #0087ff; text-decoration-color: #0087ff\">Conv2D</span>)                  │ (<span style=\"color: #00d7ff; text-decoration-color: #00d7ff\">None</span>, <span style=\"color: #00af00; text-decoration-color: #00af00\">32</span>, <span style=\"color: #00af00; text-decoration-color: #00af00\">32</span>, <span style=\"color: #00af00; text-decoration-color: #00af00\">3</span>)      │           <span style=\"color: #00af00; text-decoration-color: #00af00\">228</span> │\n",
              "├─────────────────────────────────┼────────────────────────┼───────────────┤\n",
              "│ re_lu_21 (<span style=\"color: #0087ff; text-decoration-color: #0087ff\">ReLU</span>)                 │ (<span style=\"color: #00d7ff; text-decoration-color: #00d7ff\">None</span>, <span style=\"color: #00af00; text-decoration-color: #00af00\">32</span>, <span style=\"color: #00af00; text-decoration-color: #00af00\">32</span>, <span style=\"color: #00af00; text-decoration-color: #00af00\">3</span>)      │             <span style=\"color: #00af00; text-decoration-color: #00af00\">0</span> │\n",
              "├─────────────────────────────────┼────────────────────────┼───────────────┤\n",
              "│ conv2 (<span style=\"color: #0087ff; text-decoration-color: #0087ff\">Conv2D</span>)                  │ (<span style=\"color: #00d7ff; text-decoration-color: #00d7ff\">None</span>, <span style=\"color: #00af00; text-decoration-color: #00af00\">32</span>, <span style=\"color: #00af00; text-decoration-color: #00af00\">32</span>, <span style=\"color: #00af00; text-decoration-color: #00af00\">3</span>)      │           <span style=\"color: #00af00; text-decoration-color: #00af00\">228</span> │\n",
              "├─────────────────────────────────┼────────────────────────┼───────────────┤\n",
              "│ re_lu_22 (<span style=\"color: #0087ff; text-decoration-color: #0087ff\">ReLU</span>)                 │ (<span style=\"color: #00d7ff; text-decoration-color: #00d7ff\">None</span>, <span style=\"color: #00af00; text-decoration-color: #00af00\">32</span>, <span style=\"color: #00af00; text-decoration-color: #00af00\">32</span>, <span style=\"color: #00af00; text-decoration-color: #00af00\">3</span>)      │             <span style=\"color: #00af00; text-decoration-color: #00af00\">0</span> │\n",
              "├─────────────────────────────────┼────────────────────────┼───────────────┤\n",
              "│ pool (<span style=\"color: #0087ff; text-decoration-color: #0087ff\">MaxPooling2D</span>)             │ (<span style=\"color: #00d7ff; text-decoration-color: #00d7ff\">None</span>, <span style=\"color: #00af00; text-decoration-color: #00af00\">16</span>, <span style=\"color: #00af00; text-decoration-color: #00af00\">16</span>, <span style=\"color: #00af00; text-decoration-color: #00af00\">3</span>)      │             <span style=\"color: #00af00; text-decoration-color: #00af00\">0</span> │\n",
              "├─────────────────────────────────┼────────────────────────┼───────────────┤\n",
              "│ flatten_8 (<span style=\"color: #0087ff; text-decoration-color: #0087ff\">Flatten</span>)             │ (<span style=\"color: #00d7ff; text-decoration-color: #00d7ff\">None</span>, <span style=\"color: #00af00; text-decoration-color: #00af00\">768</span>)            │             <span style=\"color: #00af00; text-decoration-color: #00af00\">0</span> │\n",
              "├─────────────────────────────────┼────────────────────────┼───────────────┤\n",
              "│ fc (<span style=\"color: #0087ff; text-decoration-color: #0087ff\">Dense</span>)                      │ (<span style=\"color: #00d7ff; text-decoration-color: #00d7ff\">None</span>, <span style=\"color: #00af00; text-decoration-color: #00af00\">10</span>)             │         <span style=\"color: #00af00; text-decoration-color: #00af00\">7,690</span> │\n",
              "└─────────────────────────────────┴────────────────────────┴───────────────┘\n",
              "</pre>\n"
            ]
          },
          "metadata": {}
        },
        {
          "output_type": "display_data",
          "data": {
            "text/plain": [
              "\u001b[1m Total params: \u001b[0m\u001b[38;5;34m8,146\u001b[0m (31.82 KB)\n"
            ],
            "text/html": [
              "<pre style=\"white-space:pre;overflow-x:auto;line-height:normal;font-family:Menlo,'DejaVu Sans Mono',consolas,'Courier New',monospace\"><span style=\"font-weight: bold\"> Total params: </span><span style=\"color: #00af00; text-decoration-color: #00af00\">8,146</span> (31.82 KB)\n",
              "</pre>\n"
            ]
          },
          "metadata": {}
        },
        {
          "output_type": "display_data",
          "data": {
            "text/plain": [
              "\u001b[1m Trainable params: \u001b[0m\u001b[38;5;34m8,146\u001b[0m (31.82 KB)\n"
            ],
            "text/html": [
              "<pre style=\"white-space:pre;overflow-x:auto;line-height:normal;font-family:Menlo,'DejaVu Sans Mono',consolas,'Courier New',monospace\"><span style=\"font-weight: bold\"> Trainable params: </span><span style=\"color: #00af00; text-decoration-color: #00af00\">8,146</span> (31.82 KB)\n",
              "</pre>\n"
            ]
          },
          "metadata": {}
        },
        {
          "output_type": "display_data",
          "data": {
            "text/plain": [
              "\u001b[1m Non-trainable params: \u001b[0m\u001b[38;5;34m0\u001b[0m (0.00 B)\n"
            ],
            "text/html": [
              "<pre style=\"white-space:pre;overflow-x:auto;line-height:normal;font-family:Menlo,'DejaVu Sans Mono',consolas,'Courier New',monospace\"><span style=\"font-weight: bold\"> Non-trainable params: </span><span style=\"color: #00af00; text-decoration-color: #00af00\">0</span> (0.00 B)\n",
              "</pre>\n"
            ]
          },
          "metadata": {}
        }
      ]
    },
    {
      "cell_type": "code",
      "source": [
        "model.compile(optimizer='adam',\n",
        "              loss='sparse_categorical_crossentropy',\n",
        "              metrics=['accuracy'])"
      ],
      "metadata": {
        "id": "npk88TBG0lpN"
      },
      "execution_count": 145,
      "outputs": []
    },
    {
      "cell_type": "code",
      "source": [
        "model.fit(x_train, y_train, epochs=5, batch_size=64, validation_split=0.1)"
      ],
      "metadata": {
        "colab": {
          "base_uri": "https://localhost:8080/"
        },
        "id": "we8Z4qjt00Bv",
        "outputId": "1d01e7f2-e516-4d5f-82f5-8bf754094367"
      },
      "execution_count": 146,
      "outputs": [
        {
          "output_type": "stream",
          "name": "stdout",
          "text": [
            "Epoch 1/5\n",
            "\u001b[1m704/704\u001b[0m \u001b[32m━━━━━━━━━━━━━━━━━━━━\u001b[0m\u001b[37m\u001b[0m \u001b[1m72s\u001b[0m 101ms/step - accuracy: 0.2918 - loss: 1.9466 - val_accuracy: 0.4106 - val_loss: 1.6551\n",
            "Epoch 2/5\n",
            "\u001b[1m704/704\u001b[0m \u001b[32m━━━━━━━━━━━━━━━━━━━━\u001b[0m\u001b[37m\u001b[0m \u001b[1m80s\u001b[0m 99ms/step - accuracy: 0.4392 - loss: 1.5775 - val_accuracy: 0.4484 - val_loss: 1.5260\n",
            "Epoch 3/5\n",
            "\u001b[1m704/704\u001b[0m \u001b[32m━━━━━━━━━━━━━━━━━━━━\u001b[0m\u001b[37m\u001b[0m \u001b[1m83s\u001b[0m 100ms/step - accuracy: 0.4656 - loss: 1.5073 - val_accuracy: 0.4798 - val_loss: 1.4638\n",
            "Epoch 4/5\n",
            "\u001b[1m704/704\u001b[0m \u001b[32m━━━━━━━━━━━━━━━━━━━━\u001b[0m\u001b[37m\u001b[0m \u001b[1m81s\u001b[0m 99ms/step - accuracy: 0.4790 - loss: 1.4649 - val_accuracy: 0.4712 - val_loss: 1.4880\n",
            "Epoch 5/5\n",
            "\u001b[1m704/704\u001b[0m \u001b[32m━━━━━━━━━━━━━━━━━━━━\u001b[0m\u001b[37m\u001b[0m \u001b[1m71s\u001b[0m 101ms/step - accuracy: 0.4833 - loss: 1.4538 - val_accuracy: 0.4876 - val_loss: 1.4349\n"
          ]
        },
        {
          "output_type": "execute_result",
          "data": {
            "text/plain": [
              "<keras.src.callbacks.history.History at 0x7b3a681f8190>"
            ]
          },
          "metadata": {},
          "execution_count": 146
        }
      ]
    },
    {
      "cell_type": "markdown",
      "source": [
        "### Library Predictions"
      ],
      "metadata": {
        "id": "S4nx40NC0IbL"
      }
    },
    {
      "cell_type": "code",
      "source": [
        "predictions = model.predict(x_test)\n",
        "o_y_pred = np.argmax(predictions, axis=1)"
      ],
      "metadata": {
        "colab": {
          "base_uri": "https://localhost:8080/"
        },
        "id": "TJKXwPOZ0QAa",
        "outputId": "d86ecbab-8754-4fcb-b52b-0db96c1389d1"
      },
      "execution_count": 147,
      "outputs": [
        {
          "output_type": "stream",
          "name": "stdout",
          "text": [
            "\u001b[1m313/313\u001b[0m \u001b[32m━━━━━━━━━━━━━━━━━━━━\u001b[0m\u001b[37m\u001b[0m \u001b[1m6s\u001b[0m 20ms/step\n"
          ]
        }
      ]
    },
    {
      "cell_type": "code",
      "source": [
        "o_macro_f1 = f1_score(y_test.flatten(), o_y_pred, average='macro')\n",
        "print(\"Macro F1-score:\", o_macro_f1)"
      ],
      "metadata": {
        "colab": {
          "base_uri": "https://localhost:8080/"
        },
        "id": "3UbLQ5wU0-HL",
        "outputId": "9967eda2-3e45-4c6a-8cba-ab9e71059787"
      },
      "execution_count": 148,
      "outputs": [
        {
          "output_type": "stream",
          "name": "stdout",
          "text": [
            "Macro F1-score: 0.47825036080672445\n"
          ]
        }
      ]
    },
    {
      "cell_type": "markdown",
      "source": [
        "### Scratch Predictions"
      ],
      "metadata": {
        "id": "LZYc_TP_0NTy"
      }
    },
    {
      "cell_type": "code",
      "source": [
        "conv1_w, conv1_b = model.get_layer('conv1').get_weights()\n",
        "conv2_w, conv2_b = model.get_layer('conv2').get_weights()\n",
        "fc_w, fc_b = model.get_layer('fc').get_weights()"
      ],
      "metadata": {
        "id": "-RkXUDPD0QWd"
      },
      "execution_count": 149,
      "outputs": []
    },
    {
      "cell_type": "code",
      "source": [
        "# Convert conv weights to NCHW\n",
        "conv1_w_nchw = conv1_w.transpose(3, 2, 0, 1)\n",
        "conv2_w_nchw = conv2_w.transpose(3, 2, 0, 1)"
      ],
      "metadata": {
        "id": "1OTpTMC92CoN"
      },
      "execution_count": 150,
      "outputs": []
    },
    {
      "cell_type": "code",
      "source": [
        "np.savez(\"trained_cnn_data.npz\",\n",
        "         conv1_w=conv1_w_nchw, conv1_b=conv1_b,\n",
        "         conv2_w=conv2_w_nchw, conv2_b=conv2_b,\n",
        "         fc_w=fc_w.T, fc_b=fc_b)  # fc_w: (10, flattened_size)"
      ],
      "metadata": {
        "id": "Np1hhIWK2IBd"
      },
      "execution_count": 151,
      "outputs": []
    },
    {
      "cell_type": "code",
      "source": [
        "data = np.load(\"trained_cnn_data.npz\")"
      ],
      "metadata": {
        "id": "cSVklsdI2Nbq"
      },
      "execution_count": 152,
      "outputs": []
    },
    {
      "cell_type": "code",
      "source": [
        "myModel = MySequential()\n",
        "\n",
        "myModel.add(Conv2DScratch(data[\"conv1_w\"], data[\"conv1_b\"], padding=2))\n",
        "myModel.add(ReLUScratch())\n",
        "myModel.add(Conv2DScratch(data[\"conv2_w\"], data[\"conv2_b\"], padding=2))\n",
        "myModel.add(ReLUScratch())\n",
        "myModel.add(MaxPool2DScratch())\n",
        "myModel.add(FlattenScratch())\n",
        "myModel.add(DenseScratch(data[\"fc_w\"], data[\"fc_b\"]))"
      ],
      "metadata": {
        "id": "4tV604wB2T-g"
      },
      "execution_count": 157,
      "outputs": []
    },
    {
      "cell_type": "code",
      "source": [
        "y_pred = []\n",
        "\n",
        "for i in range(len(x_test)):\n",
        "    img = x_test[i].transpose(2, 0, 1)\n",
        "    out = myModel.forward(img)\n",
        "    pred = np.argmax(out)\n",
        "    y_pred.append(pred)\n",
        "\n",
        "y_pred = np.array(y_pred)"
      ],
      "metadata": {
        "id": "IcFH8CMX2YIx"
      },
      "execution_count": 158,
      "outputs": []
    },
    {
      "cell_type": "code",
      "source": [
        "label_counts = np.bincount(y_pred, minlength=10)\n",
        "\n",
        "for label, count in enumerate(label_counts):\n",
        "    print(f\"Label {label}: {count} samples\")"
      ],
      "metadata": {
        "colab": {
          "base_uri": "https://localhost:8080/"
        },
        "id": "qFQk9fhS2e-1",
        "outputId": "96a54e49-a2d0-4663-a783-eb05c042896c"
      },
      "execution_count": 159,
      "outputs": [
        {
          "output_type": "stream",
          "name": "stdout",
          "text": [
            "Label 0: 82 samples\n",
            "Label 1: 7479 samples\n",
            "Label 2: 221 samples\n",
            "Label 3: 1089 samples\n",
            "Label 4: 0 samples\n",
            "Label 5: 151 samples\n",
            "Label 6: 0 samples\n",
            "Label 7: 4 samples\n",
            "Label 8: 3 samples\n",
            "Label 9: 971 samples\n"
          ]
        }
      ]
    },
    {
      "cell_type": "code",
      "source": [
        "macro_f1 = f1_score(y_test, y_pred, average='macro')\n",
        "print(\"Macro F1-score:\", macro_f1)"
      ],
      "metadata": {
        "colab": {
          "base_uri": "https://localhost:8080/"
        },
        "id": "mE8P5dXr2lnx",
        "outputId": "47629634-83b8-438d-c3a2-043867b1f8f4"
      },
      "execution_count": 160,
      "outputs": [
        {
          "output_type": "stream",
          "name": "stdout",
          "text": [
            "Macro F1-score: 0.05260317303743369\n"
          ]
        }
      ]
    },
    {
      "cell_type": "markdown",
      "source": [
        "## Filters = 3, padding = 1, kernel-size = 7x7, n_conv_layer = 2, MaxPooling"
      ],
      "metadata": {
        "id": "xkqZo74W0AER"
      }
    },
    {
      "cell_type": "markdown",
      "source": [
        "### Library Initialization"
      ],
      "metadata": {
        "id": "ai_x29kP0H0M"
      }
    },
    {
      "cell_type": "code",
      "source": [
        "model = Sequential([\n",
        "    Input(shape=(32, 32, 3)),\n",
        "    Conv2D(3, (7, 7), padding='same', name='conv1'),\n",
        "    ReLU(),\n",
        "    Conv2D(3, (7, 7), padding='same', name='conv2'),\n",
        "    ReLU(),\n",
        "    MaxPooling2D(pool_size=2, strides=2, name='pool'),\n",
        "    Flatten(),\n",
        "    Dense(10, activation='softmax', name='fc')\n",
        "])\n",
        "\n",
        "model.summary()"
      ],
      "metadata": {
        "colab": {
          "base_uri": "https://localhost:8080/",
          "height": 350
        },
        "id": "Q6Ok7CFe0OTx",
        "outputId": "56120188-e3f0-4347-8a88-ea0f3b4ff89e"
      },
      "execution_count": 161,
      "outputs": [
        {
          "output_type": "display_data",
          "data": {
            "text/plain": [
              "\u001b[1mModel: \"sequential_9\"\u001b[0m\n"
            ],
            "text/html": [
              "<pre style=\"white-space:pre;overflow-x:auto;line-height:normal;font-family:Menlo,'DejaVu Sans Mono',consolas,'Courier New',monospace\"><span style=\"font-weight: bold\">Model: \"sequential_9\"</span>\n",
              "</pre>\n"
            ]
          },
          "metadata": {}
        },
        {
          "output_type": "display_data",
          "data": {
            "text/plain": [
              "┏━━━━━━━━━━━━━━━━━━━━━━━━━━━━━━━━━┳━━━━━━━━━━━━━━━━━━━━━━━━┳━━━━━━━━━━━━━━━┓\n",
              "┃\u001b[1m \u001b[0m\u001b[1mLayer (type)                   \u001b[0m\u001b[1m \u001b[0m┃\u001b[1m \u001b[0m\u001b[1mOutput Shape          \u001b[0m\u001b[1m \u001b[0m┃\u001b[1m \u001b[0m\u001b[1m      Param #\u001b[0m\u001b[1m \u001b[0m┃\n",
              "┡━━━━━━━━━━━━━━━━━━━━━━━━━━━━━━━━━╇━━━━━━━━━━━━━━━━━━━━━━━━╇━━━━━━━━━━━━━━━┩\n",
              "│ conv1 (\u001b[38;5;33mConv2D\u001b[0m)                  │ (\u001b[38;5;45mNone\u001b[0m, \u001b[38;5;34m32\u001b[0m, \u001b[38;5;34m32\u001b[0m, \u001b[38;5;34m3\u001b[0m)      │           \u001b[38;5;34m444\u001b[0m │\n",
              "├─────────────────────────────────┼────────────────────────┼───────────────┤\n",
              "│ re_lu_23 (\u001b[38;5;33mReLU\u001b[0m)                 │ (\u001b[38;5;45mNone\u001b[0m, \u001b[38;5;34m32\u001b[0m, \u001b[38;5;34m32\u001b[0m, \u001b[38;5;34m3\u001b[0m)      │             \u001b[38;5;34m0\u001b[0m │\n",
              "├─────────────────────────────────┼────────────────────────┼───────────────┤\n",
              "│ conv2 (\u001b[38;5;33mConv2D\u001b[0m)                  │ (\u001b[38;5;45mNone\u001b[0m, \u001b[38;5;34m32\u001b[0m, \u001b[38;5;34m32\u001b[0m, \u001b[38;5;34m3\u001b[0m)      │           \u001b[38;5;34m444\u001b[0m │\n",
              "├─────────────────────────────────┼────────────────────────┼───────────────┤\n",
              "│ re_lu_24 (\u001b[38;5;33mReLU\u001b[0m)                 │ (\u001b[38;5;45mNone\u001b[0m, \u001b[38;5;34m32\u001b[0m, \u001b[38;5;34m32\u001b[0m, \u001b[38;5;34m3\u001b[0m)      │             \u001b[38;5;34m0\u001b[0m │\n",
              "├─────────────────────────────────┼────────────────────────┼───────────────┤\n",
              "│ pool (\u001b[38;5;33mMaxPooling2D\u001b[0m)             │ (\u001b[38;5;45mNone\u001b[0m, \u001b[38;5;34m16\u001b[0m, \u001b[38;5;34m16\u001b[0m, \u001b[38;5;34m3\u001b[0m)      │             \u001b[38;5;34m0\u001b[0m │\n",
              "├─────────────────────────────────┼────────────────────────┼───────────────┤\n",
              "│ flatten_9 (\u001b[38;5;33mFlatten\u001b[0m)             │ (\u001b[38;5;45mNone\u001b[0m, \u001b[38;5;34m768\u001b[0m)            │             \u001b[38;5;34m0\u001b[0m │\n",
              "├─────────────────────────────────┼────────────────────────┼───────────────┤\n",
              "│ fc (\u001b[38;5;33mDense\u001b[0m)                      │ (\u001b[38;5;45mNone\u001b[0m, \u001b[38;5;34m10\u001b[0m)             │         \u001b[38;5;34m7,690\u001b[0m │\n",
              "└─────────────────────────────────┴────────────────────────┴───────────────┘\n"
            ],
            "text/html": [
              "<pre style=\"white-space:pre;overflow-x:auto;line-height:normal;font-family:Menlo,'DejaVu Sans Mono',consolas,'Courier New',monospace\">┏━━━━━━━━━━━━━━━━━━━━━━━━━━━━━━━━━┳━━━━━━━━━━━━━━━━━━━━━━━━┳━━━━━━━━━━━━━━━┓\n",
              "┃<span style=\"font-weight: bold\"> Layer (type)                    </span>┃<span style=\"font-weight: bold\"> Output Shape           </span>┃<span style=\"font-weight: bold\">       Param # </span>┃\n",
              "┡━━━━━━━━━━━━━━━━━━━━━━━━━━━━━━━━━╇━━━━━━━━━━━━━━━━━━━━━━━━╇━━━━━━━━━━━━━━━┩\n",
              "│ conv1 (<span style=\"color: #0087ff; text-decoration-color: #0087ff\">Conv2D</span>)                  │ (<span style=\"color: #00d7ff; text-decoration-color: #00d7ff\">None</span>, <span style=\"color: #00af00; text-decoration-color: #00af00\">32</span>, <span style=\"color: #00af00; text-decoration-color: #00af00\">32</span>, <span style=\"color: #00af00; text-decoration-color: #00af00\">3</span>)      │           <span style=\"color: #00af00; text-decoration-color: #00af00\">444</span> │\n",
              "├─────────────────────────────────┼────────────────────────┼───────────────┤\n",
              "│ re_lu_23 (<span style=\"color: #0087ff; text-decoration-color: #0087ff\">ReLU</span>)                 │ (<span style=\"color: #00d7ff; text-decoration-color: #00d7ff\">None</span>, <span style=\"color: #00af00; text-decoration-color: #00af00\">32</span>, <span style=\"color: #00af00; text-decoration-color: #00af00\">32</span>, <span style=\"color: #00af00; text-decoration-color: #00af00\">3</span>)      │             <span style=\"color: #00af00; text-decoration-color: #00af00\">0</span> │\n",
              "├─────────────────────────────────┼────────────────────────┼───────────────┤\n",
              "│ conv2 (<span style=\"color: #0087ff; text-decoration-color: #0087ff\">Conv2D</span>)                  │ (<span style=\"color: #00d7ff; text-decoration-color: #00d7ff\">None</span>, <span style=\"color: #00af00; text-decoration-color: #00af00\">32</span>, <span style=\"color: #00af00; text-decoration-color: #00af00\">32</span>, <span style=\"color: #00af00; text-decoration-color: #00af00\">3</span>)      │           <span style=\"color: #00af00; text-decoration-color: #00af00\">444</span> │\n",
              "├─────────────────────────────────┼────────────────────────┼───────────────┤\n",
              "│ re_lu_24 (<span style=\"color: #0087ff; text-decoration-color: #0087ff\">ReLU</span>)                 │ (<span style=\"color: #00d7ff; text-decoration-color: #00d7ff\">None</span>, <span style=\"color: #00af00; text-decoration-color: #00af00\">32</span>, <span style=\"color: #00af00; text-decoration-color: #00af00\">32</span>, <span style=\"color: #00af00; text-decoration-color: #00af00\">3</span>)      │             <span style=\"color: #00af00; text-decoration-color: #00af00\">0</span> │\n",
              "├─────────────────────────────────┼────────────────────────┼───────────────┤\n",
              "│ pool (<span style=\"color: #0087ff; text-decoration-color: #0087ff\">MaxPooling2D</span>)             │ (<span style=\"color: #00d7ff; text-decoration-color: #00d7ff\">None</span>, <span style=\"color: #00af00; text-decoration-color: #00af00\">16</span>, <span style=\"color: #00af00; text-decoration-color: #00af00\">16</span>, <span style=\"color: #00af00; text-decoration-color: #00af00\">3</span>)      │             <span style=\"color: #00af00; text-decoration-color: #00af00\">0</span> │\n",
              "├─────────────────────────────────┼────────────────────────┼───────────────┤\n",
              "│ flatten_9 (<span style=\"color: #0087ff; text-decoration-color: #0087ff\">Flatten</span>)             │ (<span style=\"color: #00d7ff; text-decoration-color: #00d7ff\">None</span>, <span style=\"color: #00af00; text-decoration-color: #00af00\">768</span>)            │             <span style=\"color: #00af00; text-decoration-color: #00af00\">0</span> │\n",
              "├─────────────────────────────────┼────────────────────────┼───────────────┤\n",
              "│ fc (<span style=\"color: #0087ff; text-decoration-color: #0087ff\">Dense</span>)                      │ (<span style=\"color: #00d7ff; text-decoration-color: #00d7ff\">None</span>, <span style=\"color: #00af00; text-decoration-color: #00af00\">10</span>)             │         <span style=\"color: #00af00; text-decoration-color: #00af00\">7,690</span> │\n",
              "└─────────────────────────────────┴────────────────────────┴───────────────┘\n",
              "</pre>\n"
            ]
          },
          "metadata": {}
        },
        {
          "output_type": "display_data",
          "data": {
            "text/plain": [
              "\u001b[1m Total params: \u001b[0m\u001b[38;5;34m8,578\u001b[0m (33.51 KB)\n"
            ],
            "text/html": [
              "<pre style=\"white-space:pre;overflow-x:auto;line-height:normal;font-family:Menlo,'DejaVu Sans Mono',consolas,'Courier New',monospace\"><span style=\"font-weight: bold\"> Total params: </span><span style=\"color: #00af00; text-decoration-color: #00af00\">8,578</span> (33.51 KB)\n",
              "</pre>\n"
            ]
          },
          "metadata": {}
        },
        {
          "output_type": "display_data",
          "data": {
            "text/plain": [
              "\u001b[1m Trainable params: \u001b[0m\u001b[38;5;34m8,578\u001b[0m (33.51 KB)\n"
            ],
            "text/html": [
              "<pre style=\"white-space:pre;overflow-x:auto;line-height:normal;font-family:Menlo,'DejaVu Sans Mono',consolas,'Courier New',monospace\"><span style=\"font-weight: bold\"> Trainable params: </span><span style=\"color: #00af00; text-decoration-color: #00af00\">8,578</span> (33.51 KB)\n",
              "</pre>\n"
            ]
          },
          "metadata": {}
        },
        {
          "output_type": "display_data",
          "data": {
            "text/plain": [
              "\u001b[1m Non-trainable params: \u001b[0m\u001b[38;5;34m0\u001b[0m (0.00 B)\n"
            ],
            "text/html": [
              "<pre style=\"white-space:pre;overflow-x:auto;line-height:normal;font-family:Menlo,'DejaVu Sans Mono',consolas,'Courier New',monospace\"><span style=\"font-weight: bold\"> Non-trainable params: </span><span style=\"color: #00af00; text-decoration-color: #00af00\">0</span> (0.00 B)\n",
              "</pre>\n"
            ]
          },
          "metadata": {}
        }
      ]
    },
    {
      "cell_type": "code",
      "source": [
        "model.compile(optimizer='adam',\n",
        "              loss='sparse_categorical_crossentropy',\n",
        "              metrics=['accuracy'])"
      ],
      "metadata": {
        "id": "mpLEKAA_0lIv"
      },
      "execution_count": 162,
      "outputs": []
    },
    {
      "cell_type": "code",
      "source": [
        "model.fit(x_train, y_train, epochs=5, batch_size=64, validation_split=0.1)"
      ],
      "metadata": {
        "colab": {
          "base_uri": "https://localhost:8080/"
        },
        "id": "9okJfYxm00p_",
        "outputId": "cd16dffc-98d0-4297-de89-5d7d84aaa1a1"
      },
      "execution_count": 163,
      "outputs": [
        {
          "output_type": "stream",
          "name": "stdout",
          "text": [
            "Epoch 1/5\n",
            "\u001b[1m704/704\u001b[0m \u001b[32m━━━━━━━━━━━━━━━━━━━━\u001b[0m\u001b[37m\u001b[0m \u001b[1m119s\u001b[0m 167ms/step - accuracy: 0.2697 - loss: 2.0070 - val_accuracy: 0.4188 - val_loss: 1.6414\n",
            "Epoch 2/5\n",
            "\u001b[1m704/704\u001b[0m \u001b[32m━━━━━━━━━━━━━━━━━━━━\u001b[0m\u001b[37m\u001b[0m \u001b[1m140s\u001b[0m 165ms/step - accuracy: 0.4273 - loss: 1.6161 - val_accuracy: 0.4414 - val_loss: 1.5561\n",
            "Epoch 3/5\n",
            "\u001b[1m704/704\u001b[0m \u001b[32m━━━━━━━━━━━━━━━━━━━━\u001b[0m\u001b[37m\u001b[0m \u001b[1m117s\u001b[0m 167ms/step - accuracy: 0.4537 - loss: 1.5397 - val_accuracy: 0.4470 - val_loss: 1.5204\n",
            "Epoch 4/5\n",
            "\u001b[1m704/704\u001b[0m \u001b[32m━━━━━━━━━━━━━━━━━━━━\u001b[0m\u001b[37m\u001b[0m \u001b[1m140s\u001b[0m 164ms/step - accuracy: 0.4650 - loss: 1.5057 - val_accuracy: 0.4772 - val_loss: 1.4860\n",
            "Epoch 5/5\n",
            "\u001b[1m704/704\u001b[0m \u001b[32m━━━━━━━━━━━━━━━━━━━━\u001b[0m\u001b[37m\u001b[0m \u001b[1m143s\u001b[0m 166ms/step - accuracy: 0.4834 - loss: 1.4609 - val_accuracy: 0.4622 - val_loss: 1.5598\n"
          ]
        },
        {
          "output_type": "execute_result",
          "data": {
            "text/plain": [
              "<keras.src.callbacks.history.History at 0x7b3a6266bd10>"
            ]
          },
          "metadata": {},
          "execution_count": 163
        }
      ]
    },
    {
      "cell_type": "markdown",
      "source": [
        "### Library Predictions"
      ],
      "metadata": {
        "id": "gGdoRVV60K3l"
      }
    },
    {
      "cell_type": "code",
      "source": [
        "predictions = model.predict(x_test)\n",
        "o_y_pred = np.argmax(predictions, axis=1)"
      ],
      "metadata": {
        "colab": {
          "base_uri": "https://localhost:8080/"
        },
        "id": "3tj413Dt0Oh_",
        "outputId": "0ba1bb53-f415-4b1d-b895-9e33772182da"
      },
      "execution_count": 164,
      "outputs": [
        {
          "output_type": "stream",
          "name": "stdout",
          "text": [
            "\u001b[1m313/313\u001b[0m \u001b[32m━━━━━━━━━━━━━━━━━━━━\u001b[0m\u001b[37m\u001b[0m \u001b[1m9s\u001b[0m 30ms/step\n"
          ]
        }
      ]
    },
    {
      "cell_type": "code",
      "source": [
        "o_macro_f1 = f1_score(y_test.flatten(), o_y_pred, average='macro')\n",
        "print(\"Macro F1-score:\", o_macro_f1)"
      ],
      "metadata": {
        "colab": {
          "base_uri": "https://localhost:8080/"
        },
        "id": "6PUbU3EQ0_H6",
        "outputId": "e6c5770c-6e5b-47aa-e809-ec105a052f3f"
      },
      "execution_count": 165,
      "outputs": [
        {
          "output_type": "stream",
          "name": "stdout",
          "text": [
            "Macro F1-score: 0.433556296723384\n"
          ]
        }
      ]
    },
    {
      "cell_type": "markdown",
      "source": [
        "### Scratch Predictions"
      ],
      "metadata": {
        "id": "jleB3DNa0LK2"
      }
    },
    {
      "cell_type": "code",
      "source": [
        "conv1_w, conv1_b = model.get_layer('conv1').get_weights()\n",
        "conv2_w, conv2_b = model.get_layer('conv2').get_weights()\n",
        "fc_w, fc_b = model.get_layer('fc').get_weights()"
      ],
      "metadata": {
        "id": "5FBU3VmR0PBV"
      },
      "execution_count": 166,
      "outputs": []
    },
    {
      "cell_type": "code",
      "source": [
        "# Convert conv weights to NCHW\n",
        "conv1_w_nchw = conv1_w.transpose(3, 2, 0, 1)\n",
        "conv2_w_nchw = conv2_w.transpose(3, 2, 0, 1)"
      ],
      "metadata": {
        "id": "4Dy9s6-O2CLC"
      },
      "execution_count": 167,
      "outputs": []
    },
    {
      "cell_type": "code",
      "source": [
        "np.savez(\"trained_cnn_data.npz\",\n",
        "         conv1_w=conv1_w_nchw, conv1_b=conv1_b,\n",
        "         conv2_w=conv2_w_nchw, conv2_b=conv2_b,\n",
        "         fc_w=fc_w.T, fc_b=fc_b)  # fc_w: (10, flattened_size)"
      ],
      "metadata": {
        "id": "5KSLx-vt2ImM"
      },
      "execution_count": 168,
      "outputs": []
    },
    {
      "cell_type": "code",
      "source": [
        "data = np.load(\"trained_cnn_data.npz\")"
      ],
      "metadata": {
        "id": "B4eclI-M2Mv_"
      },
      "execution_count": 169,
      "outputs": []
    },
    {
      "cell_type": "code",
      "source": [
        "myModel = MySequential()\n",
        "\n",
        "myModel.add(Conv2DScratch(data[\"conv1_w\"], data[\"conv1_b\"], padding=3))\n",
        "myModel.add(ReLUScratch())\n",
        "myModel.add(Conv2DScratch(data[\"conv2_w\"], data[\"conv2_b\"], padding=3))\n",
        "myModel.add(ReLUScratch())\n",
        "myModel.add(MaxPool2DScratch())\n",
        "myModel.add(FlattenScratch())\n",
        "myModel.add(DenseScratch(data[\"fc_w\"], data[\"fc_b\"]))"
      ],
      "metadata": {
        "id": "3fX4c6uG2TF9"
      },
      "execution_count": 170,
      "outputs": []
    },
    {
      "cell_type": "code",
      "source": [
        "y_pred = []\n",
        "\n",
        "for i in range(len(x_test)):\n",
        "    img = x_test[i].transpose(2, 0, 1)\n",
        "    out = myModel.forward(img)\n",
        "    pred = np.argmax(out)\n",
        "    y_pred.append(pred)\n",
        "\n",
        "y_pred = np.array(y_pred)"
      ],
      "metadata": {
        "id": "NG3NhEjJ2Yqf"
      },
      "execution_count": 171,
      "outputs": []
    },
    {
      "cell_type": "code",
      "source": [
        "label_counts = np.bincount(y_pred, minlength=10)\n",
        "\n",
        "for label, count in enumerate(label_counts):\n",
        "    print(f\"Label {label}: {count} samples\")"
      ],
      "metadata": {
        "colab": {
          "base_uri": "https://localhost:8080/"
        },
        "id": "_6pZpKP-2cqc",
        "outputId": "94163db4-35f8-49e9-9972-8b4c4e34bea7"
      },
      "execution_count": 172,
      "outputs": [
        {
          "output_type": "stream",
          "name": "stdout",
          "text": [
            "Label 0: 0 samples\n",
            "Label 1: 0 samples\n",
            "Label 2: 91 samples\n",
            "Label 3: 2336 samples\n",
            "Label 4: 0 samples\n",
            "Label 5: 7553 samples\n",
            "Label 6: 19 samples\n",
            "Label 7: 1 samples\n",
            "Label 8: 0 samples\n",
            "Label 9: 0 samples\n"
          ]
        }
      ]
    },
    {
      "cell_type": "code",
      "source": [
        "macro_f1 = f1_score(y_test, y_pred, average='macro')\n",
        "print(\"Macro F1-score:\", macro_f1)"
      ],
      "metadata": {
        "colab": {
          "base_uri": "https://localhost:8080/"
        },
        "id": "O4-eNhOc2i4J",
        "outputId": "702a5b6f-7037-45bb-bc58-5bc00a7ec7df"
      },
      "execution_count": 173,
      "outputs": [
        {
          "output_type": "stream",
          "name": "stdout",
          "text": [
            "Macro F1-score: 0.028861659882896913\n"
          ]
        }
      ]
    }
  ],
  "metadata": {
    "colab": {
      "provenance": []
    },
    "kernelspec": {
      "display_name": "Python 3",
      "name": "python3"
    },
    "language_info": {
      "name": "python"
    }
  },
  "nbformat": 4,
  "nbformat_minor": 0
}